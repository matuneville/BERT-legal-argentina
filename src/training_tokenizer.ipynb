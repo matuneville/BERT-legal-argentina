{
 "cells": [
  {
   "cell_type": "code",
   "id": "initial_id",
   "metadata": {
    "collapsed": true,
    "ExecuteTime": {
     "end_time": "2025-01-09T18:22:51.657025Z",
     "start_time": "2025-01-09T18:22:49.626524Z"
    }
   },
   "source": [
    "from tokenizers.implementations import ByteLevelBPETokenizer\n",
    "\n",
    "import os"
   ],
   "outputs": [],
   "execution_count": 2
  },
  {
   "metadata": {
    "ExecuteTime": {
     "end_time": "2025-01-09T18:22:51.674784Z",
     "start_time": "2025-01-09T18:22:51.664715Z"
    }
   },
   "cell_type": "code",
   "source": [
    "file_names = []\n",
    "\n",
    "if os.path.exists('../data/') and os.path.isdir('../data/'):\n",
    "    file_names = os.listdir('../data/')\n",
    "\n",
    "file_names = ['../data/'+file_name for file_name in file_names]\n",
    "\n",
    "file_names"
   ],
   "id": "f613e35f7c114d17",
   "outputs": [
    {
     "data": {
      "text/plain": [
       "['../data/codigo_penal.txt',\n",
       " '../data/codigo_de_etica_publica.txt',\n",
       " '../data/codigo_procesal_penal_federal.txt',\n",
       " '../data/codigo_aeronautico.txt',\n",
       " '../data/codigo_procesal_civil_y_comercial.txt',\n",
       " '../data/codigo_aduanero.txt',\n",
       " '../data/codigo_electoral_nacional.txt',\n",
       " '../data/codigo_civil_y_comercial.txt',\n",
       " '../data/codigo_alimentario_argentino.txt',\n",
       " '../data/constitucion-nacional.txt',\n",
       " '../data/codigo_de_mineria.txt']"
      ]
     },
     "execution_count": 3,
     "metadata": {},
     "output_type": "execute_result"
    }
   ],
   "execution_count": 3
  },
  {
   "metadata": {
    "ExecuteTime": {
     "end_time": "2025-01-09T18:22:52.510035Z",
     "start_time": "2025-01-09T18:22:51.719097Z"
    }
   },
   "cell_type": "code",
   "source": [
    "tokenizer = ByteLevelBPETokenizer()\n",
    "\n",
    "# ensure tokenizer reserves the special tokens for the vocab\n",
    "special_tokens = [\n",
    "    \"[PAD]\",\n",
    "    \"[UNK]\",\n",
    "    \"[CLS]\",\n",
    "    \"[STA]\",\n",
    "    \"[END]\",\n",
    "    \"[MASK]\"\n",
    "]\n",
    "\n",
    "tokenizer.train(files=file_names, vocab_size=52000, min_frequency=2, special_tokens=special_tokens, show_progress=True)"
   ],
   "id": "490607c88d80e78d",
   "outputs": [
    {
     "name": "stdout",
     "output_type": "stream",
     "text": [
      "\n",
      "\n",
      "\n"
     ]
    }
   ],
   "execution_count": 4
  },
  {
   "metadata": {},
   "cell_type": "markdown",
   "source": "Save files to disk",
   "id": "ae8162bd3619fa9c"
  },
  {
   "metadata": {
    "ExecuteTime": {
     "end_time": "2025-01-09T18:22:52.536162Z",
     "start_time": "2025-01-09T18:22:52.524762Z"
    }
   },
   "cell_type": "code",
   "source": [
    "token_dir = '../LawBERTarg/'\n",
    "if not os.path.exists(token_dir):\n",
    "    os.makedirs(token_dir)\n",
    "tokenizer.save_model(token_dir)"
   ],
   "id": "db6d4d56f526b774",
   "outputs": [
    {
     "data": {
      "text/plain": [
       "['../LawBERTarg/vocab.json', '../LawBERTarg/merges.txt']"
      ]
     },
     "execution_count": 5,
     "metadata": {},
     "output_type": "execute_result"
    }
   ],
   "execution_count": 5
  }
 ],
 "metadata": {
  "kernelspec": {
   "display_name": "Python 3",
   "language": "python",
   "name": "python3"
  },
  "language_info": {
   "codemirror_mode": {
    "name": "ipython",
    "version": 2
   },
   "file_extension": ".py",
   "mimetype": "text/x-python",
   "name": "python",
   "nbconvert_exporter": "python",
   "pygments_lexer": "ipython2",
   "version": "2.7.6"
  }
 },
 "nbformat": 4,
 "nbformat_minor": 5
}
