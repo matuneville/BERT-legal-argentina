{
 "cells": [
  {
   "cell_type": "code",
   "id": "initial_id",
   "metadata": {
    "collapsed": true,
    "ExecuteTime": {
     "end_time": "2025-01-09T22:30:20.361504Z",
     "start_time": "2025-01-09T22:30:16.611158Z"
    }
   },
   "source": [
    "import os\n",
    "\n",
    "from accelerate import accelerator\n",
    "\n",
    "import torch # for cuda usage\n",
    "\n",
    "import transformers\n",
    "from transformers import RobertaConfig, RobertaTokenizer, RobertaForMaskedLM\n",
    "from transformers import LineByLineTextDataset, DataCollatorForLanguageModeling\n",
    "from transformers import Trainer, TrainingArguments"
   ],
   "outputs": [],
   "execution_count": 1
  },
  {
   "metadata": {},
   "cell_type": "markdown",
   "source": [
    "## Pre-training\n",
    "\n",
    "We will pretrain a RoBERTa-style transformer model, configured with the same number of layers and attention heads as a DistilBERT model. The model will feature a vocabulary size of 52,000, 12 attention heads, and 6 layers."
   ],
   "id": "3e1f78e586d8af6d"
  },
  {
   "metadata": {
    "ExecuteTime": {
     "end_time": "2025-01-09T22:30:20.373628Z",
     "start_time": "2025-01-09T22:30:20.368912Z"
    }
   },
   "cell_type": "code",
   "source": [
    "config = RobertaConfig(vocab_size=52000,\n",
    "                       max_position_embeddings=514,\n",
    "                       num_attention_heads=12,\n",
    "                       num_hidden_layers=6,\n",
    "                       type_vocab_size=1,\n",
    "                       )\n",
    "print(config)"
   ],
   "id": "413154b6fb082bc2",
   "outputs": [
    {
     "name": "stdout",
     "output_type": "stream",
     "text": [
      "RobertaConfig {\n",
      "  \"attention_probs_dropout_prob\": 0.1,\n",
      "  \"bos_token_id\": 0,\n",
      "  \"classifier_dropout\": null,\n",
      "  \"eos_token_id\": 2,\n",
      "  \"hidden_act\": \"gelu\",\n",
      "  \"hidden_dropout_prob\": 0.1,\n",
      "  \"hidden_size\": 768,\n",
      "  \"initializer_range\": 0.02,\n",
      "  \"intermediate_size\": 3072,\n",
      "  \"layer_norm_eps\": 1e-12,\n",
      "  \"max_position_embeddings\": 514,\n",
      "  \"model_type\": \"roberta\",\n",
      "  \"num_attention_heads\": 12,\n",
      "  \"num_hidden_layers\": 6,\n",
      "  \"pad_token_id\": 1,\n",
      "  \"position_embedding_type\": \"absolute\",\n",
      "  \"transformers_version\": \"4.47.1\",\n",
      "  \"type_vocab_size\": 1,\n",
      "  \"use_cache\": true,\n",
      "  \"vocab_size\": 52000\n",
      "}\n",
      "\n"
     ]
    }
   ],
   "execution_count": 2
  },
  {
   "metadata": {},
   "cell_type": "markdown",
   "source": [
    "### Tokenizer\n",
    "\n",
    "Initialize tokenizer from the one I trained:"
   ],
   "id": "b9c77b88af657ce1"
  },
  {
   "metadata": {
    "ExecuteTime": {
     "end_time": "2025-01-09T22:30:20.553868Z",
     "start_time": "2025-01-09T22:30:20.511196Z"
    }
   },
   "cell_type": "code",
   "source": "tokenizer = RobertaTokenizer.from_pretrained('../LawBERTarg', max_len=512)",
   "id": "b18c6f48a5023357",
   "outputs": [],
   "execution_count": 3
  },
  {
   "metadata": {
    "ExecuteTime": {
     "end_time": "2025-01-09T22:30:20.622960Z",
     "start_time": "2025-01-09T22:30:20.561559Z"
    }
   },
   "cell_type": "code",
   "source": "print(tokenizer)",
   "id": "41868fe7063e5bef",
   "outputs": [
    {
     "name": "stdout",
     "output_type": "stream",
     "text": [
      "RobertaTokenizer(name_or_path='../LawBERTarg', vocab_size=20397, model_max_length=512, is_fast=False, padding_side='right', truncation_side='right', special_tokens={'bos_token': '<s>', 'eos_token': '</s>', 'unk_token': '<unk>', 'sep_token': '</s>', 'pad_token': '<pad>', 'cls_token': '<s>', 'mask_token': '<mask>'}, clean_up_tokenization_spaces=False, added_tokens_decoder={\n",
      "\t0: AddedToken(\"<pad>\", rstrip=False, lstrip=False, single_word=False, normalized=True, special=True),\n",
      "\t1: AddedToken(\"<unk>\", rstrip=False, lstrip=False, single_word=False, normalized=True, special=True),\n",
      "\t2: AddedToken(\"<s>\", rstrip=False, lstrip=False, single_word=False, normalized=True, special=True),\n",
      "\t3: AddedToken(\"</s>\", rstrip=False, lstrip=False, single_word=False, normalized=True, special=True),\n",
      "\t4: AddedToken(\"<mask>\", rstrip=False, lstrip=True, single_word=False, normalized=False, special=True),\n",
      "}\n",
      ")\n"
     ]
    }
   ],
   "execution_count": 4
  },
  {
   "metadata": {
    "ExecuteTime": {
     "end_time": "2025-01-09T22:30:20.721142Z",
     "start_time": "2025-01-09T22:30:20.635570Z"
    }
   },
   "cell_type": "code",
   "source": "print(tokenizer.vocab_size)",
   "id": "bbf1b3d520ca3ee5",
   "outputs": [
    {
     "name": "stdout",
     "output_type": "stream",
     "text": [
      "20397\n"
     ]
    }
   ],
   "execution_count": 5
  },
  {
   "metadata": {},
   "cell_type": "markdown",
   "source": "Test it:",
   "id": "83228d83a3da7f45"
  },
  {
   "metadata": {
    "ExecuteTime": {
     "end_time": "2025-01-09T22:30:20.820352Z",
     "start_time": "2025-01-09T22:30:20.733098Z"
    }
   },
   "cell_type": "code",
   "source": [
    "print(tokenizer.tokenize(\"es un órgano independiente instituido en el ámbito del Congreso de la\"))\n",
    "print(tokenizer.encode(\"es un órgano independiente instituido en el ámbito del Congreso de la\"))"
   ],
   "id": "bbbeab1132babe1c",
   "outputs": [
    {
     "name": "stdout",
     "output_type": "stream",
     "text": [
      "['es', 'Ġun', 'ĠÃ³rgano', 'Ġindependiente', 'Ġins', 'tituido', 'Ġen', 'Ġel', 'ĠÃ¡mbito', 'Ġdel', 'ĠCongreso', 'Ġde', 'Ġla']\n",
      "[2, 267, 362, 4228, 5660, 818, 998, 294, 286, 3596, 320, 2251, 262, 274, 3]\n"
     ]
    }
   ],
   "execution_count": 6
  },
  {
   "metadata": {},
   "cell_type": "markdown",
   "source": "Initialize model:",
   "id": "a4102e3c580a76e3"
  },
  {
   "metadata": {
    "ExecuteTime": {
     "end_time": "2025-01-09T22:30:23.031354Z",
     "start_time": "2025-01-09T22:30:20.831909Z"
    }
   },
   "cell_type": "code",
   "source": "model = RobertaForMaskedLM(config=config)",
   "id": "5d80a74089b72f97",
   "outputs": [],
   "execution_count": 7
  },
  {
   "metadata": {
    "ExecuteTime": {
     "end_time": "2025-01-09T22:30:23.055508Z",
     "start_time": "2025-01-09T22:30:23.051042Z"
    }
   },
   "cell_type": "code",
   "source": "print(model)",
   "id": "684e728ceef4c5e3",
   "outputs": [
    {
     "name": "stdout",
     "output_type": "stream",
     "text": [
      "RobertaForMaskedLM(\n",
      "  (roberta): RobertaModel(\n",
      "    (embeddings): RobertaEmbeddings(\n",
      "      (word_embeddings): Embedding(52000, 768, padding_idx=1)\n",
      "      (position_embeddings): Embedding(514, 768, padding_idx=1)\n",
      "      (token_type_embeddings): Embedding(1, 768)\n",
      "      (LayerNorm): LayerNorm((768,), eps=1e-12, elementwise_affine=True)\n",
      "      (dropout): Dropout(p=0.1, inplace=False)\n",
      "    )\n",
      "    (encoder): RobertaEncoder(\n",
      "      (layer): ModuleList(\n",
      "        (0-5): 6 x RobertaLayer(\n",
      "          (attention): RobertaAttention(\n",
      "            (self): RobertaSdpaSelfAttention(\n",
      "              (query): Linear(in_features=768, out_features=768, bias=True)\n",
      "              (key): Linear(in_features=768, out_features=768, bias=True)\n",
      "              (value): Linear(in_features=768, out_features=768, bias=True)\n",
      "              (dropout): Dropout(p=0.1, inplace=False)\n",
      "            )\n",
      "            (output): RobertaSelfOutput(\n",
      "              (dense): Linear(in_features=768, out_features=768, bias=True)\n",
      "              (LayerNorm): LayerNorm((768,), eps=1e-12, elementwise_affine=True)\n",
      "              (dropout): Dropout(p=0.1, inplace=False)\n",
      "            )\n",
      "          )\n",
      "          (intermediate): RobertaIntermediate(\n",
      "            (dense): Linear(in_features=768, out_features=3072, bias=True)\n",
      "            (intermediate_act_fn): GELUActivation()\n",
      "          )\n",
      "          (output): RobertaOutput(\n",
      "            (dense): Linear(in_features=3072, out_features=768, bias=True)\n",
      "            (LayerNorm): LayerNorm((768,), eps=1e-12, elementwise_affine=True)\n",
      "            (dropout): Dropout(p=0.1, inplace=False)\n",
      "          )\n",
      "        )\n",
      "      )\n",
      "    )\n",
      "  )\n",
      "  (lm_head): RobertaLMHead(\n",
      "    (dense): Linear(in_features=768, out_features=768, bias=True)\n",
      "    (layer_norm): LayerNorm((768,), eps=1e-12, elementwise_affine=True)\n",
      "    (decoder): Linear(in_features=768, out_features=52000, bias=True)\n",
      "  )\n",
      ")\n"
     ]
    }
   ],
   "execution_count": 8
  },
  {
   "metadata": {
    "ExecuteTime": {
     "end_time": "2025-01-09T22:30:23.156175Z",
     "start_time": "2025-01-09T22:30:23.111397Z"
    }
   },
   "cell_type": "code",
   "source": "print(model.num_parameters())",
   "id": "1bdbd7bd3019e08b",
   "outputs": [
    {
     "name": "stdout",
     "output_type": "stream",
     "text": [
      "83504416\n"
     ]
    }
   ],
   "execution_count": 9
  },
  {
   "metadata": {},
   "cell_type": "markdown",
   "source": [
    "### Loading data for processing\n",
    "\n",
    "Loading dataset:"
   ],
   "id": "429d94e4ecf69ae0"
  },
  {
   "metadata": {
    "ExecuteTime": {
     "end_time": "2025-01-09T22:30:23.257753Z",
     "start_time": "2025-01-09T22:30:23.174233Z"
    }
   },
   "cell_type": "code",
   "source": [
    "file_names = []\n",
    "\n",
    "if os.path.exists('../data/') and os.path.isdir('../data/'):\n",
    "    file_names = os.listdir('../data/')\n",
    "\n",
    "file_names = ['../data/'+file_name for file_name in file_names]\n",
    "\n",
    "file_names"
   ],
   "id": "184633014e65f324",
   "outputs": [
    {
     "data": {
      "text/plain": [
       "['../data/codigo_penal.txt',\n",
       " '../data/codigo_de_etica_publica.txt',\n",
       " '../data/codigo_procesal_penal_federal.txt',\n",
       " '../data/codigo_aeronautico.txt',\n",
       " '../data/codigo_procesal_civil_y_comercial.txt',\n",
       " '../data/codigo_aduanero.txt',\n",
       " '../data/codigo_electoral_nacional.txt',\n",
       " '../data/codigo_civil_y_comercial.txt',\n",
       " '../data/codigo_alimentario_argentino.txt',\n",
       " '../data/constitucion-nacional.txt',\n",
       " '../data/codigo_de_mineria.txt']"
      ]
     },
     "execution_count": 10,
     "metadata": {},
     "output_type": "execute_result"
    }
   ],
   "execution_count": 10
  },
  {
   "metadata": {
    "ExecuteTime": {
     "end_time": "2025-01-09T22:30:23.373372Z",
     "start_time": "2025-01-09T22:30:23.281653Z"
    }
   },
   "cell_type": "code",
   "source": [
    "combined_file = \"combined.txt\"\n",
    "\n",
    "with open(combined_file, \"w\") as outfile:\n",
    "    for fname in file_names:\n",
    "        with open(fname) as infile:\n",
    "            outfile.write(infile.read() + \"\\n\") # newline between files"
   ],
   "id": "86b7b882f4538c17",
   "outputs": [],
   "execution_count": 11
  },
  {
   "metadata": {},
   "cell_type": "markdown",
   "source": "Load the dataset to generate samples for batch training, with block_size=256 limiting the length of an example:",
   "id": "14b615e57514eb5d"
  },
  {
   "metadata": {
    "ExecuteTime": {
     "end_time": "2025-01-09T22:30:28.411633Z",
     "start_time": "2025-01-09T22:30:23.382153Z"
    }
   },
   "cell_type": "code",
   "source": [
    "dataset = LineByLineTextDataset(\n",
    "    tokenizer=tokenizer,\n",
    "    file_path=combined_file,\n",
    "    block_size=128\n",
    ")"
   ],
   "id": "eb09c540324e47bf",
   "outputs": [
    {
     "name": "stderr",
     "output_type": "stream",
     "text": [
      "/home/neville/.venv/lib/python3.12/site-packages/transformers/data/datasets/language_modeling.py:119: FutureWarning: This dataset will be removed from the library soon, preprocessing should be handled with the 🤗 Datasets library. You can have a look at this example script for pointers: https://github.com/huggingface/transformers/blob/main/examples/pytorch/language-modeling/run_mlm.py\n",
      "  warnings.warn(\n"
     ]
    }
   ],
   "execution_count": 12
  },
  {
   "metadata": {},
   "cell_type": "markdown",
   "source": [
    "Create a data collator, that will collate samples from the dataset to prepare batch processing.\n",
    "\n",
    "Prepare for Masked Language Modeling by setting mlm=True and specifying a masking probability of 0.15, meaning 15% of tokens will be masked during pretraining."
   ],
   "id": "4ffb3ac0ddb82d94"
  },
  {
   "metadata": {
    "ExecuteTime": {
     "end_time": "2025-01-09T22:30:28.424137Z",
     "start_time": "2025-01-09T22:30:28.421208Z"
    }
   },
   "cell_type": "code",
   "source": [
    "data_collator = DataCollatorForLanguageModeling(\n",
    "    tokenizer=tokenizer,\n",
    "    mlm=True,\n",
    "    mlm_probability=0.15\n",
    ")"
   ],
   "id": "c27c88f21539722d",
   "outputs": [],
   "execution_count": 13
  },
  {
   "metadata": {},
   "cell_type": "markdown",
   "source": [
    "### Training\n",
    "\n",
    "Initialize trainer:"
   ],
   "id": "5cc63e2047c7df3d"
  },
  {
   "metadata": {
    "ExecuteTime": {
     "end_time": "2025-01-09T22:30:28.682614Z",
     "start_time": "2025-01-09T22:30:28.473937Z"
    }
   },
   "cell_type": "code",
   "source": [
    "# instance of TrainingArguments that stores hyperparams\n",
    "training_args = TrainingArguments(\n",
    "    output_dir='../LawBERTarg/',\n",
    "    overwrite_output_dir=True,\n",
    "    num_train_epochs=1,\n",
    "    per_device_train_batch_size=16, # batch_size, low due to gpu memory restriction\n",
    "    save_steps=10000, # checkpoint saved every 10k steps\n",
    "    save_total_limit=2,\n",
    "    prediction_loss_only=True,\n",
    ")"
   ],
   "id": "8552671e9096d392",
   "outputs": [],
   "execution_count": 14
  },
  {
   "metadata": {
    "ExecuteTime": {
     "end_time": "2025-01-09T22:30:28.885027Z",
     "start_time": "2025-01-09T22:30:28.690256Z"
    }
   },
   "cell_type": "code",
   "source": [
    "device = \"cuda\" if torch.cuda.is_available() else \"cpu\"\n",
    "model.to(device)\n",
    "print(f\"Using device: {device}\")"
   ],
   "id": "dbb637983af91107",
   "outputs": [
    {
     "name": "stdout",
     "output_type": "stream",
     "text": [
      "Using device: cuda\n"
     ]
    }
   ],
   "execution_count": 15
  },
  {
   "metadata": {
    "ExecuteTime": {
     "end_time": "2025-01-09T22:30:28.908416Z",
     "start_time": "2025-01-09T22:30:28.896646Z"
    }
   },
   "cell_type": "code",
   "source": [
    "trainer = Trainer(\n",
    "    model=model, # the RoBERTa we initialized\n",
    "    args=training_args,\n",
    "    data_collator=data_collator,\n",
    "    train_dataset=dataset,\n",
    ")"
   ],
   "id": "fe3479f334727d34",
   "outputs": [],
   "execution_count": 16
  },
  {
   "metadata": {},
   "cell_type": "markdown",
   "source": "Start pre-training:",
   "id": "f82a8ab6379f4d8e"
  },
  {
   "metadata": {
    "ExecuteTime": {
     "end_time": "2025-01-09T22:41:54.031611Z",
     "start_time": "2025-01-09T22:30:28.956516Z"
    }
   },
   "cell_type": "code",
   "source": [
    "%%time\n",
    "trainer.train()"
   ],
   "id": "df144da3ff5f6dbd",
   "outputs": [
    {
     "data": {
      "text/plain": [
       "<IPython.core.display.HTML object>"
      ],
      "text/html": [
       "\n",
       "    <div>\n",
       "      \n",
       "      <progress value='981' max='981' style='width:300px; height:20px; vertical-align: middle;'></progress>\n",
       "      [981/981 11:23, Epoch 1/1]\n",
       "    </div>\n",
       "    <table border=\"1\" class=\"dataframe\">\n",
       "  <thead>\n",
       " <tr style=\"text-align: left;\">\n",
       "      <th>Step</th>\n",
       "      <th>Training Loss</th>\n",
       "    </tr>\n",
       "  </thead>\n",
       "  <tbody>\n",
       "    <tr>\n",
       "      <td>500</td>\n",
       "      <td>7.143100</td>\n",
       "    </tr>\n",
       "  </tbody>\n",
       "</table><p>"
      ]
     },
     "metadata": {},
     "output_type": "display_data"
    },
    {
     "name": "stdout",
     "output_type": "stream",
     "text": [
      "CPU times: user 11min 23s, sys: 1.73 s, total: 11min 24s\n",
      "Wall time: 11min 24s\n"
     ]
    },
    {
     "data": {
      "text/plain": [
       "TrainOutput(global_step=981, training_loss=6.746609406855249, metrics={'train_runtime': 684.8809, 'train_samples_per_second': 22.896, 'train_steps_per_second': 1.432, 'total_flos': 347322235450944.0, 'train_loss': 6.746609406855249, 'epoch': 1.0})"
      ]
     },
     "execution_count": 17,
     "metadata": {},
     "output_type": "execute_result"
    }
   ],
   "execution_count": 17
  },
  {
   "metadata": {},
   "cell_type": "markdown",
   "source": "Save model:",
   "id": "48d03e2adc898be7"
  },
  {
   "metadata": {
    "ExecuteTime": {
     "end_time": "2025-01-09T22:41:54.103696Z",
     "start_time": "2025-01-09T22:41:54.100821Z"
    }
   },
   "cell_type": "code",
   "source": "trainer.save_model(\"../LawBERTarg/\")",
   "id": "55657efaa7dcce26",
   "outputs": [],
   "execution_count": 17
  }
 ],
 "metadata": {
  "kernelspec": {
   "display_name": "Python 3",
   "language": "python",
   "name": "python3"
  },
  "language_info": {
   "codemirror_mode": {
    "name": "ipython",
    "version": 2
   },
   "file_extension": ".py",
   "mimetype": "text/x-python",
   "name": "python",
   "nbconvert_exporter": "python",
   "pygments_lexer": "ipython2",
   "version": "2.7.6"
  }
 },
 "nbformat": 4,
 "nbformat_minor": 5
}
