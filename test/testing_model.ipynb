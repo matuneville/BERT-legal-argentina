{
 "cells": [
  {
   "metadata": {},
   "cell_type": "markdown",
   "source": "# Testing my pre-trained model",
   "id": "3bbcd56968ed767e"
  },
  {
   "cell_type": "code",
   "id": "initial_id",
   "metadata": {
    "collapsed": true,
    "ExecuteTime": {
     "end_time": "2025-01-09T22:52:01.035103Z",
     "start_time": "2025-01-09T22:51:56.661783Z"
    }
   },
   "source": "from transformers import pipeline",
   "outputs": [],
   "execution_count": 1
  },
  {
   "metadata": {},
   "cell_type": "markdown",
   "source": "MLM task",
   "id": "3c65c7badc0edebd"
  },
  {
   "metadata": {
    "ExecuteTime": {
     "end_time": "2025-01-09T22:52:03.731397Z",
     "start_time": "2025-01-09T22:52:01.042610Z"
    }
   },
   "cell_type": "code",
   "source": [
    "fill_mask = pipeline(\n",
    "    task='fill-mask',\n",
    "    model='../LawBERTarg',\n",
    "    tokenizer='../LawBERTarg'\n",
    ")"
   ],
   "id": "8b3c94635f02dbb1",
   "outputs": [
    {
     "name": "stderr",
     "output_type": "stream",
     "text": [
      "Device set to use cuda:0\n"
     ]
    }
   ],
   "execution_count": 2
  },
  {
   "metadata": {
    "ExecuteTime": {
     "end_time": "2025-01-09T22:52:04.688067Z",
     "start_time": "2025-01-09T22:52:03.851373Z"
    }
   },
   "cell_type": "code",
   "source": "fill_mask('Con reclusión o <mask> de tres a diez años, si obrare')",
   "id": "4971d680a78d6f66",
   "outputs": [
    {
     "data": {
      "text/plain": [
       "[{'score': 0.03730066120624542,\n",
       "  'token': 18,\n",
       "  'token_str': '.',\n",
       "  'sequence': 'Con reclusión o. de tres a diez años, si obrare'},\n",
       " {'score': 0.034747108817100525,\n",
       "  'token': 262,\n",
       "  'token_str': ' de',\n",
       "  'sequence': 'Con reclusión o de de tres a diez años, si obrare'},\n",
       " {'score': 0.02594670094549656,\n",
       "  'token': 274,\n",
       "  'token_str': ' la',\n",
       "  'sequence': 'Con reclusión o la de tres a diez años, si obrare'},\n",
       " {'score': 0.024537688121199608,\n",
       "  'token': 311,\n",
       "  'token_str': ' los',\n",
       "  'sequence': 'Con reclusión o los de tres a diez años, si obrare'},\n",
       " {'score': 0.017887044697999954,\n",
       "  'token': 16,\n",
       "  'token_str': ',',\n",
       "  'sequence': 'Con reclusión o, de tres a diez años, si obrare'}]"
      ]
     },
     "execution_count": 3,
     "metadata": {},
     "output_type": "execute_result"
    }
   ],
   "execution_count": 3
  },
  {
   "metadata": {
    "ExecuteTime": {
     "end_time": "2025-01-09T22:52:04.699163Z",
     "start_time": "2025-01-09T22:52:04.696373Z"
    }
   },
   "cell_type": "code",
   "source": "",
   "id": "effb4fd4617466d",
   "outputs": [],
   "execution_count": null
  }
 ],
 "metadata": {
  "kernelspec": {
   "display_name": "Python 3",
   "language": "python",
   "name": "python3"
  },
  "language_info": {
   "codemirror_mode": {
    "name": "ipython",
    "version": 2
   },
   "file_extension": ".py",
   "mimetype": "text/x-python",
   "name": "python",
   "nbconvert_exporter": "python",
   "pygments_lexer": "ipython2",
   "version": "2.7.6"
  }
 },
 "nbformat": 4,
 "nbformat_minor": 5
}
