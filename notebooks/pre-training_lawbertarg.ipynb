{
 "cells": [
  {
   "metadata": {},
   "cell_type": "markdown",
   "source": "# Pre-training",
   "id": "157ec2e09a1762"
  },
  {
   "metadata": {
    "collapsed": true,
    "ExecuteTime": {
     "end_time": "2025-01-11T17:23:39.825907Z",
     "start_time": "2025-01-11T17:23:34.751176Z"
    }
   },
   "cell_type": "code",
   "source": [
    "import os\n",
    "\n",
    "from accelerate import accelerator\n",
    "\n",
    "import torch # for cuda usage\n",
    "\n",
    "import transformers\n",
    "from transformers import RobertaConfig, RobertaTokenizer, RobertaForMaskedLM\n",
    "from transformers import LineByLineTextDataset, DataCollatorForLanguageModeling\n",
    "from transformers import Trainer, TrainingArguments\n",
    "\n",
    "from datasets import load_dataset"
   ],
   "id": "initial_id",
   "outputs": [],
   "execution_count": 1
  },
  {
   "metadata": {},
   "cell_type": "markdown",
   "source": "### Configuring model",
   "id": "92d1585cb7a06f3e"
  },
  {
   "metadata": {},
   "cell_type": "markdown",
   "source": [
    "\n",
    "We will pretrain a RoBERTa-style transformer model, configured with the same number of layers and attention heads as a DistilBERT model. The model will feature a vocabulary size of 52,000, 12 attention heads, and 6 layers."
   ],
   "id": "3e1f78e586d8af6d"
  },
  {
   "metadata": {
    "ExecuteTime": {
     "end_time": "2025-01-11T17:23:40.269722Z",
     "start_time": "2025-01-11T17:23:40.263305Z"
    }
   },
   "cell_type": "code",
   "source": [
    "config = RobertaConfig(vocab_size=30000,\n",
    "                       max_position_embeddings=514,\n",
    "                       num_attention_heads=12,\n",
    "                       num_hidden_layers=12,\n",
    "                       type_vocab_size=1,\n",
    "                       )\n",
    "print(config)"
   ],
   "id": "413154b6fb082bc2",
   "outputs": [
    {
     "name": "stdout",
     "output_type": "stream",
     "text": [
      "RobertaConfig {\n",
      "  \"attention_probs_dropout_prob\": 0.1,\n",
      "  \"bos_token_id\": 0,\n",
      "  \"classifier_dropout\": null,\n",
      "  \"eos_token_id\": 2,\n",
      "  \"hidden_act\": \"gelu\",\n",
      "  \"hidden_dropout_prob\": 0.1,\n",
      "  \"hidden_size\": 768,\n",
      "  \"initializer_range\": 0.02,\n",
      "  \"intermediate_size\": 3072,\n",
      "  \"layer_norm_eps\": 1e-12,\n",
      "  \"max_position_embeddings\": 514,\n",
      "  \"model_type\": \"roberta\",\n",
      "  \"num_attention_heads\": 12,\n",
      "  \"num_hidden_layers\": 12,\n",
      "  \"pad_token_id\": 1,\n",
      "  \"position_embedding_type\": \"absolute\",\n",
      "  \"transformers_version\": \"4.47.1\",\n",
      "  \"type_vocab_size\": 1,\n",
      "  \"use_cache\": true,\n",
      "  \"vocab_size\": 30000\n",
      "}\n",
      "\n"
     ]
    }
   ],
   "execution_count": 2
  },
  {
   "metadata": {},
   "cell_type": "markdown",
   "source": [
    "### Tokenizer\n",
    "\n",
    "Initialize tokenizer from the one I trained:"
   ],
   "id": "b9c77b88af657ce1"
  },
  {
   "metadata": {
    "ExecuteTime": {
     "end_time": "2025-01-11T17:23:41.968656Z",
     "start_time": "2025-01-11T17:23:41.769245Z"
    }
   },
   "cell_type": "code",
   "source": "tokenizer = RobertaTokenizer.from_pretrained('../LawBERTarg', max_len=512)",
   "id": "b18c6f48a5023357",
   "outputs": [],
   "execution_count": 3
  },
  {
   "metadata": {
    "ExecuteTime": {
     "end_time": "2025-01-11T17:23:46.954022Z",
     "start_time": "2025-01-11T17:23:46.950568Z"
    }
   },
   "cell_type": "code",
   "source": "print(tokenizer)",
   "id": "41868fe7063e5bef",
   "outputs": [
    {
     "name": "stdout",
     "output_type": "stream",
     "text": [
      "RobertaTokenizer(name_or_path='../LawBERTarg', vocab_size=20341, model_max_length=512, is_fast=False, padding_side='right', truncation_side='right', special_tokens={'bos_token': '<s>', 'eos_token': '</s>', 'unk_token': '<unk>', 'sep_token': '</s>', 'pad_token': '<pad>', 'cls_token': '<s>', 'mask_token': '<mask>'}, clean_up_tokenization_spaces=False, added_tokens_decoder={\n",
      "\t0: AddedToken(\"<pad>\", rstrip=False, lstrip=False, single_word=False, normalized=True, special=True),\n",
      "\t1: AddedToken(\"<unk>\", rstrip=False, lstrip=False, single_word=False, normalized=True, special=True),\n",
      "\t2: AddedToken(\"<s>\", rstrip=False, lstrip=False, single_word=False, normalized=True, special=True),\n",
      "\t3: AddedToken(\"</s>\", rstrip=False, lstrip=False, single_word=False, normalized=True, special=True),\n",
      "\t4: AddedToken(\"<mask>\", rstrip=False, lstrip=True, single_word=False, normalized=False, special=True),\n",
      "}\n",
      ")\n"
     ]
    }
   ],
   "execution_count": 4
  },
  {
   "metadata": {
    "ExecuteTime": {
     "end_time": "2025-01-11T17:23:48.402041Z",
     "start_time": "2025-01-11T17:23:48.398341Z"
    }
   },
   "cell_type": "code",
   "source": "print(tokenizer.vocab_size)",
   "id": "bbf1b3d520ca3ee5",
   "outputs": [
    {
     "name": "stdout",
     "output_type": "stream",
     "text": [
      "20341\n"
     ]
    }
   ],
   "execution_count": 5
  },
  {
   "metadata": {},
   "cell_type": "markdown",
   "source": "Test it:",
   "id": "83228d83a3da7f45"
  },
  {
   "metadata": {
    "ExecuteTime": {
     "end_time": "2025-01-11T17:23:53.039150Z",
     "start_time": "2025-01-11T17:23:53.016869Z"
    }
   },
   "cell_type": "code",
   "source": "print(tokenizer.tokenize(\"es un órgano independiente instituido en el ámbito del Congreso de la\"))",
   "id": "bbbeab1132babe1c",
   "outputs": [
    {
     "name": "stdout",
     "output_type": "stream",
     "text": [
      "['es', 'Ġun', 'ĠÃ³rgano', 'Ġindependiente', 'Ġinstituido', 'Ġen', 'Ġel', 'ĠÃ¡mbito', 'Ġde', 'l', 'ĠCongreso', 'Ġde', 'Ġla']\n"
     ]
    }
   ],
   "execution_count": 6
  },
  {
   "metadata": {},
   "cell_type": "markdown",
   "source": "Initialize model:",
   "id": "a4102e3c580a76e3"
  },
  {
   "metadata": {
    "ExecuteTime": {
     "end_time": "2025-01-11T17:24:00.114980Z",
     "start_time": "2025-01-11T17:23:57.717190Z"
    }
   },
   "cell_type": "code",
   "source": "model = RobertaForMaskedLM(config=config)",
   "id": "5d80a74089b72f97",
   "outputs": [],
   "execution_count": 7
  },
  {
   "metadata": {
    "ExecuteTime": {
     "end_time": "2025-01-11T17:24:39.179084Z",
     "start_time": "2025-01-11T17:24:39.174608Z"
    }
   },
   "cell_type": "code",
   "source": "print(model)",
   "id": "684e728ceef4c5e3",
   "outputs": [
    {
     "name": "stdout",
     "output_type": "stream",
     "text": [
      "RobertaForMaskedLM(\n",
      "  (roberta): RobertaModel(\n",
      "    (embeddings): RobertaEmbeddings(\n",
      "      (word_embeddings): Embedding(30000, 768, padding_idx=1)\n",
      "      (position_embeddings): Embedding(514, 768, padding_idx=1)\n",
      "      (token_type_embeddings): Embedding(1, 768)\n",
      "      (LayerNorm): LayerNorm((768,), eps=1e-12, elementwise_affine=True)\n",
      "      (dropout): Dropout(p=0.1, inplace=False)\n",
      "    )\n",
      "    (encoder): RobertaEncoder(\n",
      "      (layer): ModuleList(\n",
      "        (0-11): 12 x RobertaLayer(\n",
      "          (attention): RobertaAttention(\n",
      "            (self): RobertaSdpaSelfAttention(\n",
      "              (query): Linear(in_features=768, out_features=768, bias=True)\n",
      "              (key): Linear(in_features=768, out_features=768, bias=True)\n",
      "              (value): Linear(in_features=768, out_features=768, bias=True)\n",
      "              (dropout): Dropout(p=0.1, inplace=False)\n",
      "            )\n",
      "            (output): RobertaSelfOutput(\n",
      "              (dense): Linear(in_features=768, out_features=768, bias=True)\n",
      "              (LayerNorm): LayerNorm((768,), eps=1e-12, elementwise_affine=True)\n",
      "              (dropout): Dropout(p=0.1, inplace=False)\n",
      "            )\n",
      "          )\n",
      "          (intermediate): RobertaIntermediate(\n",
      "            (dense): Linear(in_features=768, out_features=3072, bias=True)\n",
      "            (intermediate_act_fn): GELUActivation()\n",
      "          )\n",
      "          (output): RobertaOutput(\n",
      "            (dense): Linear(in_features=3072, out_features=768, bias=True)\n",
      "            (LayerNorm): LayerNorm((768,), eps=1e-12, elementwise_affine=True)\n",
      "            (dropout): Dropout(p=0.1, inplace=False)\n",
      "          )\n",
      "        )\n",
      "      )\n",
      "    )\n",
      "  )\n",
      "  (lm_head): RobertaLMHead(\n",
      "    (dense): Linear(in_features=768, out_features=768, bias=True)\n",
      "    (layer_norm): LayerNorm((768,), eps=1e-12, elementwise_affine=True)\n",
      "    (decoder): Linear(in_features=768, out_features=30000, bias=True)\n",
      "  )\n",
      ")\n"
     ]
    }
   ],
   "execution_count": 8
  },
  {
   "metadata": {
    "ExecuteTime": {
     "end_time": "2025-01-11T17:24:40.319104Z",
     "start_time": "2025-01-11T17:24:40.314236Z"
    }
   },
   "cell_type": "code",
   "source": "print(model.num_parameters())",
   "id": "1bdbd7bd3019e08b",
   "outputs": [
    {
     "name": "stdout",
     "output_type": "stream",
     "text": [
      "109113648\n"
     ]
    }
   ],
   "execution_count": 9
  },
  {
   "metadata": {},
   "cell_type": "markdown",
   "source": [
    "### Loading data for processing\n",
    "\n",
    "Loading dataset:"
   ],
   "id": "429d94e4ecf69ae0"
  },
  {
   "metadata": {
    "ExecuteTime": {
     "end_time": "2025-01-11T17:24:45.797328Z",
     "start_time": "2025-01-11T17:24:45.786155Z"
    }
   },
   "cell_type": "code",
   "source": [
    "file_names = []\n",
    "\n",
    "if os.path.exists('../data/') and os.path.isdir('../data/'):\n",
    "    file_names = os.listdir('../data/')\n",
    "\n",
    "file_names = ['../data/'+file_name for file_name in file_names]\n",
    "\n",
    "file_names"
   ],
   "id": "184633014e65f324",
   "outputs": [
    {
     "data": {
      "text/plain": [
       "['../data/codigo_penal.txt',\n",
       " '../data/codigo_de_etica_publica.txt',\n",
       " '../data/codigo_procesal_penal_federal.txt',\n",
       " '../data/codigo_aeronautico.txt',\n",
       " '../data/codigo_procesal_civil_y_comercial.txt',\n",
       " '../data/codigo_aduanero.txt',\n",
       " '../data/constitucion-caba.txt',\n",
       " '../data/codigo_electoral_nacional.txt',\n",
       " '../data/codigo_civil_y_comercial.txt',\n",
       " '../data/codigo_alimentario_argentino.txt',\n",
       " '../data/constitucion-nacional.txt',\n",
       " '../data/codigo_de_mineria.txt']"
      ]
     },
     "execution_count": 10,
     "metadata": {},
     "output_type": "execute_result"
    }
   ],
   "execution_count": 10
  },
  {
   "metadata": {},
   "cell_type": "markdown",
   "source": "Load the dataset to generate samples for batch training, with block_size=256 limiting the length of an example:",
   "id": "14b615e57514eb5d"
  },
  {
   "metadata": {
    "ExecuteTime": {
     "end_time": "2025-01-11T17:24:59.253802Z",
     "start_time": "2025-01-11T17:24:58.557658Z"
    }
   },
   "cell_type": "code",
   "source": [
    "\"\"\"dataset = LineByLineTextDataset(\n",
    "    tokenizer=tokenizer,\n",
    "    file_path=combined_file,\n",
    "    block_size=64\n",
    ")\"\"\"\n",
    "\n",
    "dataset = load_dataset(path=\"text\",\n",
    "                       data_files=file_names,\n",
    "                       )"
   ],
   "id": "eb09c540324e47bf",
   "outputs": [
    {
     "data": {
      "text/plain": [
       "Generating train split: 0 examples [00:00, ? examples/s]"
      ],
      "application/vnd.jupyter.widget-view+json": {
       "version_major": 2,
       "version_minor": 0,
       "model_id": "4927c7b4a17f4d1cb2963a183004223d"
      }
     },
     "metadata": {},
     "output_type": "display_data"
    }
   ],
   "execution_count": 11
  },
  {
   "metadata": {
    "ExecuteTime": {
     "end_time": "2025-01-11T17:25:14.063853Z",
     "start_time": "2025-01-11T17:25:05.635132Z"
    }
   },
   "cell_type": "code",
   "source": [
    "def tokenize_function(examples):\n",
    "    return tokenizer(examples[\"text\"], # select the text lines from dataset\n",
    "                     truncation=True,\n",
    "                     padding=\"max_length\",\n",
    "                     max_length=64)\n",
    "\n",
    "# map tokenize function to loaded dataset\n",
    "tokenized_dataset = dataset.map(tokenize_function,\n",
    "                                batched=True,\n",
    "                                remove_columns=[\"text\"])\n",
    "# now this tokenized dataset cas columns: input_ids, attention_masks, among other fields (text was removed)"
   ],
   "id": "d729315aa57ec1cd",
   "outputs": [
    {
     "data": {
      "text/plain": [
       "Map:   0%|          | 0/34297 [00:00<?, ? examples/s]"
      ],
      "application/vnd.jupyter.widget-view+json": {
       "version_major": 2,
       "version_minor": 0,
       "model_id": "ee9c07a662af4c95b26fd9a160b9cc18"
      }
     },
     "metadata": {},
     "output_type": "display_data"
    }
   ],
   "execution_count": 12
  },
  {
   "metadata": {},
   "cell_type": "markdown",
   "source": [
    "Create a data collator, that will collate samples from the dataset to prepare batch processing.\n",
    "\n",
    "Prepare for Masked Language Modeling by setting mlm=True and specifying a masking probability of 0.15, meaning 15% of tokens will be masked during pretraining."
   ],
   "id": "4ffb3ac0ddb82d94"
  },
  {
   "metadata": {
    "ExecuteTime": {
     "end_time": "2025-01-11T17:25:21.886195Z",
     "start_time": "2025-01-11T17:25:21.882277Z"
    }
   },
   "cell_type": "code",
   "source": [
    "data_collator = DataCollatorForLanguageModeling(\n",
    "    tokenizer=tokenizer,\n",
    "    mlm=True,\n",
    "    mlm_probability=0.20\n",
    ")"
   ],
   "id": "c27c88f21539722d",
   "outputs": [],
   "execution_count": 13
  },
  {
   "metadata": {},
   "cell_type": "markdown",
   "source": [
    "### Training\n",
    "\n",
    "Initialize trainer:"
   ],
   "id": "5cc63e2047c7df3d"
  },
  {
   "metadata": {
    "ExecuteTime": {
     "end_time": "2025-01-11T17:26:11.207044Z",
     "start_time": "2025-01-11T17:26:10.633707Z"
    }
   },
   "cell_type": "code",
   "source": [
    "# instance of TrainingArguments that stores hyperparams\n",
    "training_args = TrainingArguments(\n",
    "    output_dir='../LawBERTarg/',\n",
    "    overwrite_output_dir=True,\n",
    "    num_train_epochs=2,\n",
    "    per_device_train_batch_size=16, # batch_size, low due to gpu memory restriction\n",
    "    save_steps=10000, # checkpoint saved every 10k steps\n",
    "    save_total_limit=3,\n",
    "    prediction_loss_only=True,\n",
    ")"
   ],
   "id": "8552671e9096d392",
   "outputs": [],
   "execution_count": 14
  },
  {
   "metadata": {
    "ExecuteTime": {
     "end_time": "2025-01-11T17:26:13.906502Z",
     "start_time": "2025-01-11T17:26:13.434128Z"
    }
   },
   "cell_type": "code",
   "source": [
    "device = \"cuda\" if torch.cuda.is_available() else \"cpu\"\n",
    "model.to(device)\n",
    "print(f\"Using device: {device}\")"
   ],
   "id": "dbb637983af91107",
   "outputs": [
    {
     "name": "stdout",
     "output_type": "stream",
     "text": [
      "Using device: cuda\n"
     ]
    }
   ],
   "execution_count": 15
  },
  {
   "metadata": {
    "ExecuteTime": {
     "end_time": "2025-01-11T17:26:20.428922Z",
     "start_time": "2025-01-11T17:26:20.050928Z"
    }
   },
   "cell_type": "code",
   "source": [
    "trainer = Trainer(\n",
    "    model=model, # the RoBERTa we initialized\n",
    "    args=training_args,\n",
    "    data_collator=data_collator,\n",
    "    #train_dataset=dataset,\n",
    "    train_dataset=tokenized_dataset[\"train\"],\n",
    ")"
   ],
   "id": "fe3479f334727d34",
   "outputs": [],
   "execution_count": 16
  },
  {
   "metadata": {},
   "cell_type": "markdown",
   "source": "Start pre-training:",
   "id": "f82a8ab6379f4d8e"
  },
  {
   "metadata": {
    "ExecuteTime": {
     "end_time": "2025-01-11T18:14:05.994667Z",
     "start_time": "2025-01-11T17:26:23.153825Z"
    }
   },
   "cell_type": "code",
   "source": [
    "%%time\n",
    "trainer.train()"
   ],
   "id": "df144da3ff5f6dbd",
   "outputs": [
    {
     "data": {
      "text/plain": [
       "<IPython.core.display.HTML object>"
      ],
      "text/html": [
       "\n",
       "    <div>\n",
       "      \n",
       "      <progress value='4288' max='4288' style='width:300px; height:20px; vertical-align: middle;'></progress>\n",
       "      [4288/4288 47:40, Epoch 2/2]\n",
       "    </div>\n",
       "    <table border=\"1\" class=\"dataframe\">\n",
       "  <thead>\n",
       " <tr style=\"text-align: left;\">\n",
       "      <th>Step</th>\n",
       "      <th>Training Loss</th>\n",
       "    </tr>\n",
       "  </thead>\n",
       "  <tbody>\n",
       "    <tr>\n",
       "      <td>500</td>\n",
       "      <td>7.353200</td>\n",
       "    </tr>\n",
       "    <tr>\n",
       "      <td>1000</td>\n",
       "      <td>6.711100</td>\n",
       "    </tr>\n",
       "    <tr>\n",
       "      <td>1500</td>\n",
       "      <td>6.483300</td>\n",
       "    </tr>\n",
       "    <tr>\n",
       "      <td>2000</td>\n",
       "      <td>6.288000</td>\n",
       "    </tr>\n",
       "    <tr>\n",
       "      <td>2500</td>\n",
       "      <td>6.077800</td>\n",
       "    </tr>\n",
       "    <tr>\n",
       "      <td>3000</td>\n",
       "      <td>5.975500</td>\n",
       "    </tr>\n",
       "    <tr>\n",
       "      <td>3500</td>\n",
       "      <td>5.818500</td>\n",
       "    </tr>\n",
       "    <tr>\n",
       "      <td>4000</td>\n",
       "      <td>5.823400</td>\n",
       "    </tr>\n",
       "  </tbody>\n",
       "</table><p>"
      ]
     },
     "metadata": {},
     "output_type": "display_data"
    },
    {
     "name": "stdout",
     "output_type": "stream",
     "text": [
      "CPU times: user 47min 38s, sys: 4.07 s, total: 47min 42s\n",
      "Wall time: 47min 42s\n"
     ]
    },
    {
     "data": {
      "text/plain": [
       "TrainOutput(global_step=4288, training_loss=6.2748199861441085, metrics={'train_runtime': 2862.6868, 'train_samples_per_second': 23.961, 'train_steps_per_second': 1.498, 'total_flos': 2256770116620288.0, 'train_loss': 6.2748199861441085, 'epoch': 2.0})"
      ]
     },
     "execution_count": 17,
     "metadata": {},
     "output_type": "execute_result"
    }
   ],
   "execution_count": 17
  },
  {
   "metadata": {},
   "cell_type": "markdown",
   "source": "Save model:",
   "id": "48d03e2adc898be7"
  },
  {
   "metadata": {
    "ExecuteTime": {
     "end_time": "2025-01-11T18:14:22.708272Z",
     "start_time": "2025-01-11T18:14:21.576712Z"
    }
   },
   "cell_type": "code",
   "source": "trainer.save_model(\"../LawBERTarg/\")",
   "id": "55657efaa7dcce26",
   "outputs": [],
   "execution_count": 18
  },
  {
   "metadata": {},
   "cell_type": "code",
   "outputs": [],
   "execution_count": null,
   "source": "",
   "id": "18ddd049fe2ffdb8"
  }
 ],
 "metadata": {
  "kernelspec": {
   "display_name": "Python 3",
   "language": "python",
   "name": "python3"
  },
  "language_info": {
   "codemirror_mode": {
    "name": "ipython",
    "version": 2
   },
   "file_extension": ".py",
   "mimetype": "text/x-python",
   "name": "python",
   "nbconvert_exporter": "python",
   "pygments_lexer": "ipython2",
   "version": "2.7.6"
  }
 },
 "nbformat": 4,
 "nbformat_minor": 5
}
