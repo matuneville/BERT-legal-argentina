{
 "cells": [
  {
   "metadata": {},
   "cell_type": "markdown",
   "source": "# Pre-training",
   "id": "157ec2e09a1762"
  },
  {
   "metadata": {
    "collapsed": true,
    "ExecuteTime": {
     "end_time": "2025-01-10T14:04:39.389748Z",
     "start_time": "2025-01-10T14:04:39.385868Z"
    }
   },
   "cell_type": "code",
   "source": [
    "import os\n",
    "\n",
    "from accelerate import accelerator\n",
    "\n",
    "import torch # for cuda usage\n",
    "\n",
    "import transformers\n",
    "from transformers import RobertaConfig, RobertaTokenizer, RobertaForMaskedLM\n",
    "from transformers import LineByLineTextDataset, DataCollatorForLanguageModeling\n",
    "from transformers import Trainer, TrainingArguments\n",
    "\n",
    "from datasets import load_dataset"
   ],
   "id": "initial_id",
   "outputs": [],
   "execution_count": 21
  },
  {
   "metadata": {},
   "cell_type": "markdown",
   "source": "### Configuring model",
   "id": "92d1585cb7a06f3e"
  },
  {
   "metadata": {},
   "cell_type": "markdown",
   "source": [
    "\n",
    "We will pretrain a RoBERTa-style transformer model, configured with the same number of layers and attention heads as a DistilBERT model. The model will feature a vocabulary size of 52,000, 12 attention heads, and 6 layers."
   ],
   "id": "3e1f78e586d8af6d"
  },
  {
   "metadata": {
    "ExecuteTime": {
     "end_time": "2025-01-10T14:04:39.488087Z",
     "start_time": "2025-01-10T14:04:39.438218Z"
    }
   },
   "cell_type": "code",
   "source": [
    "config = RobertaConfig(vocab_size=30000,\n",
    "                       max_position_embeddings=514,\n",
    "                       num_attention_heads=12,\n",
    "                       num_hidden_layers=6,\n",
    "                       type_vocab_size=1,\n",
    "                       )\n",
    "print(config)"
   ],
   "id": "413154b6fb082bc2",
   "outputs": [
    {
     "name": "stdout",
     "output_type": "stream",
     "text": [
      "RobertaConfig {\n",
      "  \"attention_probs_dropout_prob\": 0.1,\n",
      "  \"bos_token_id\": 0,\n",
      "  \"classifier_dropout\": null,\n",
      "  \"eos_token_id\": 2,\n",
      "  \"hidden_act\": \"gelu\",\n",
      "  \"hidden_dropout_prob\": 0.1,\n",
      "  \"hidden_size\": 768,\n",
      "  \"initializer_range\": 0.02,\n",
      "  \"intermediate_size\": 3072,\n",
      "  \"layer_norm_eps\": 1e-12,\n",
      "  \"max_position_embeddings\": 514,\n",
      "  \"model_type\": \"roberta\",\n",
      "  \"num_attention_heads\": 12,\n",
      "  \"num_hidden_layers\": 6,\n",
      "  \"pad_token_id\": 1,\n",
      "  \"position_embedding_type\": \"absolute\",\n",
      "  \"transformers_version\": \"4.47.1\",\n",
      "  \"type_vocab_size\": 1,\n",
      "  \"use_cache\": true,\n",
      "  \"vocab_size\": 30000\n",
      "}\n",
      "\n"
     ]
    }
   ],
   "execution_count": 22
  },
  {
   "metadata": {},
   "cell_type": "markdown",
   "source": [
    "### Tokenizer\n",
    "\n",
    "Initialize tokenizer from the one I trained:"
   ],
   "id": "b9c77b88af657ce1"
  },
  {
   "metadata": {
    "ExecuteTime": {
     "end_time": "2025-01-10T14:04:39.638090Z",
     "start_time": "2025-01-10T14:04:39.500120Z"
    }
   },
   "cell_type": "code",
   "source": "tokenizer = RobertaTokenizer.from_pretrained('../LawBERTarg', max_len=512)",
   "id": "b18c6f48a5023357",
   "outputs": [],
   "execution_count": 23
  },
  {
   "metadata": {
    "ExecuteTime": {
     "end_time": "2025-01-10T14:04:39.709110Z",
     "start_time": "2025-01-10T14:04:39.652130Z"
    }
   },
   "cell_type": "code",
   "source": "print(tokenizer)",
   "id": "41868fe7063e5bef",
   "outputs": [
    {
     "name": "stdout",
     "output_type": "stream",
     "text": [
      "RobertaTokenizer(name_or_path='../LawBERTarg', vocab_size=20397, model_max_length=512, is_fast=False, padding_side='right', truncation_side='right', special_tokens={'bos_token': '<s>', 'eos_token': '</s>', 'unk_token': '<unk>', 'sep_token': '</s>', 'pad_token': '<pad>', 'cls_token': '<s>', 'mask_token': '<mask>'}, clean_up_tokenization_spaces=False, added_tokens_decoder={\n",
      "\t0: AddedToken(\"<pad>\", rstrip=False, lstrip=False, single_word=False, normalized=True, special=True),\n",
      "\t1: AddedToken(\"<unk>\", rstrip=False, lstrip=False, single_word=False, normalized=True, special=True),\n",
      "\t2: AddedToken(\"<s>\", rstrip=False, lstrip=False, single_word=False, normalized=True, special=True),\n",
      "\t3: AddedToken(\"</s>\", rstrip=False, lstrip=False, single_word=False, normalized=True, special=True),\n",
      "\t4: AddedToken(\"<mask>\", rstrip=False, lstrip=True, single_word=False, normalized=False, special=True),\n",
      "}\n",
      ")\n"
     ]
    }
   ],
   "execution_count": 24
  },
  {
   "metadata": {
    "ExecuteTime": {
     "end_time": "2025-01-10T14:04:39.807317Z",
     "start_time": "2025-01-10T14:04:39.738850Z"
    }
   },
   "cell_type": "code",
   "source": "print(tokenizer.vocab_size)",
   "id": "bbf1b3d520ca3ee5",
   "outputs": [
    {
     "name": "stdout",
     "output_type": "stream",
     "text": [
      "20397\n"
     ]
    }
   ],
   "execution_count": 25
  },
  {
   "metadata": {},
   "cell_type": "markdown",
   "source": "Test it:",
   "id": "83228d83a3da7f45"
  },
  {
   "metadata": {
    "ExecuteTime": {
     "end_time": "2025-01-10T14:04:39.906935Z",
     "start_time": "2025-01-10T14:04:39.826124Z"
    }
   },
   "cell_type": "code",
   "source": [
    "print(tokenizer.tokenize(\"es un órgano independiente instituido en el ámbito del Congreso de la\"))\n",
    "print(tokenizer.encode(\"es un órgano independiente instituido en el ámbito del Congreso de la\"))"
   ],
   "id": "bbbeab1132babe1c",
   "outputs": [
    {
     "name": "stdout",
     "output_type": "stream",
     "text": [
      "['es', 'Ġun', 'ĠÃ³rgano', 'Ġindependiente', 'Ġins', 'tituido', 'Ġen', 'Ġel', 'ĠÃ¡mbito', 'Ġdel', 'ĠCongreso', 'Ġde', 'Ġla']\n",
      "[2, 267, 362, 4228, 5660, 818, 998, 294, 286, 3596, 320, 2251, 262, 274, 3]\n"
     ]
    }
   ],
   "execution_count": 26
  },
  {
   "metadata": {},
   "cell_type": "markdown",
   "source": "Initialize model:",
   "id": "a4102e3c580a76e3"
  },
  {
   "metadata": {
    "ExecuteTime": {
     "end_time": "2025-01-10T14:04:41.321574Z",
     "start_time": "2025-01-10T14:04:39.914606Z"
    }
   },
   "cell_type": "code",
   "source": "model = RobertaForMaskedLM(config=config)",
   "id": "5d80a74089b72f97",
   "outputs": [],
   "execution_count": 27
  },
  {
   "metadata": {
    "ExecuteTime": {
     "end_time": "2025-01-10T14:04:41.336355Z",
     "start_time": "2025-01-10T14:04:41.332445Z"
    }
   },
   "cell_type": "code",
   "source": "print(model)",
   "id": "684e728ceef4c5e3",
   "outputs": [
    {
     "name": "stdout",
     "output_type": "stream",
     "text": [
      "RobertaForMaskedLM(\n",
      "  (roberta): RobertaModel(\n",
      "    (embeddings): RobertaEmbeddings(\n",
      "      (word_embeddings): Embedding(30000, 768, padding_idx=1)\n",
      "      (position_embeddings): Embedding(514, 768, padding_idx=1)\n",
      "      (token_type_embeddings): Embedding(1, 768)\n",
      "      (LayerNorm): LayerNorm((768,), eps=1e-12, elementwise_affine=True)\n",
      "      (dropout): Dropout(p=0.1, inplace=False)\n",
      "    )\n",
      "    (encoder): RobertaEncoder(\n",
      "      (layer): ModuleList(\n",
      "        (0-5): 6 x RobertaLayer(\n",
      "          (attention): RobertaAttention(\n",
      "            (self): RobertaSdpaSelfAttention(\n",
      "              (query): Linear(in_features=768, out_features=768, bias=True)\n",
      "              (key): Linear(in_features=768, out_features=768, bias=True)\n",
      "              (value): Linear(in_features=768, out_features=768, bias=True)\n",
      "              (dropout): Dropout(p=0.1, inplace=False)\n",
      "            )\n",
      "            (output): RobertaSelfOutput(\n",
      "              (dense): Linear(in_features=768, out_features=768, bias=True)\n",
      "              (LayerNorm): LayerNorm((768,), eps=1e-12, elementwise_affine=True)\n",
      "              (dropout): Dropout(p=0.1, inplace=False)\n",
      "            )\n",
      "          )\n",
      "          (intermediate): RobertaIntermediate(\n",
      "            (dense): Linear(in_features=768, out_features=3072, bias=True)\n",
      "            (intermediate_act_fn): GELUActivation()\n",
      "          )\n",
      "          (output): RobertaOutput(\n",
      "            (dense): Linear(in_features=3072, out_features=768, bias=True)\n",
      "            (LayerNorm): LayerNorm((768,), eps=1e-12, elementwise_affine=True)\n",
      "            (dropout): Dropout(p=0.1, inplace=False)\n",
      "          )\n",
      "        )\n",
      "      )\n",
      "    )\n",
      "  )\n",
      "  (lm_head): RobertaLMHead(\n",
      "    (dense): Linear(in_features=768, out_features=768, bias=True)\n",
      "    (layer_norm): LayerNorm((768,), eps=1e-12, elementwise_affine=True)\n",
      "    (decoder): Linear(in_features=768, out_features=30000, bias=True)\n",
      "  )\n",
      ")\n"
     ]
    }
   ],
   "execution_count": 28
  },
  {
   "metadata": {
    "ExecuteTime": {
     "end_time": "2025-01-10T14:04:41.517092Z",
     "start_time": "2025-01-10T14:04:41.391353Z"
    }
   },
   "cell_type": "code",
   "source": "print(model.num_parameters())",
   "id": "1bdbd7bd3019e08b",
   "outputs": [
    {
     "name": "stdout",
     "output_type": "stream",
     "text": [
      "66586416\n"
     ]
    }
   ],
   "execution_count": 29
  },
  {
   "metadata": {},
   "cell_type": "markdown",
   "source": [
    "### Loading data for processing\n",
    "\n",
    "Loading dataset:"
   ],
   "id": "429d94e4ecf69ae0"
  },
  {
   "metadata": {
    "ExecuteTime": {
     "end_time": "2025-01-10T14:04:41.627369Z",
     "start_time": "2025-01-10T14:04:41.544776Z"
    }
   },
   "cell_type": "code",
   "source": [
    "file_names = []\n",
    "\n",
    "if os.path.exists('../data/') and os.path.isdir('../data/'):\n",
    "    file_names = os.listdir('../data/')\n",
    "\n",
    "file_names = ['../data/'+file_name for file_name in file_names]\n",
    "\n",
    "file_names"
   ],
   "id": "184633014e65f324",
   "outputs": [
    {
     "data": {
      "text/plain": [
       "['../data/codigo_penal.txt',\n",
       " '../data/codigo_de_etica_publica.txt',\n",
       " '../data/codigo_procesal_penal_federal.txt',\n",
       " '../data/codigo_aeronautico.txt',\n",
       " '../data/codigo_procesal_civil_y_comercial.txt',\n",
       " '../data/codigo_aduanero.txt',\n",
       " '../data/codigo_electoral_nacional.txt',\n",
       " '../data/codigo_civil_y_comercial.txt',\n",
       " '../data/codigo_alimentario_argentino.txt',\n",
       " '../data/constitucion-nacional.txt',\n",
       " '../data/codigo_de_mineria.txt']"
      ]
     },
     "execution_count": 30,
     "metadata": {},
     "output_type": "execute_result"
    }
   ],
   "execution_count": 30
  },
  {
   "metadata": {
    "ExecuteTime": {
     "end_time": "2025-01-10T14:04:41.733990Z",
     "start_time": "2025-01-10T14:04:41.641654Z"
    }
   },
   "cell_type": "code",
   "source": [
    "combined_file = \"combined.txt\"\n",
    "\n",
    "with open(combined_file, \"w\") as outfile:\n",
    "    for fname in file_names:\n",
    "        with open(fname) as infile:\n",
    "            outfile.write(infile.read() + \"\\n\") # newline between files"
   ],
   "id": "86b7b882f4538c17",
   "outputs": [],
   "execution_count": 31
  },
  {
   "metadata": {},
   "cell_type": "markdown",
   "source": "Load the dataset to generate samples for batch training, with block_size=256 limiting the length of an example:",
   "id": "14b615e57514eb5d"
  },
  {
   "metadata": {
    "ExecuteTime": {
     "end_time": "2025-01-10T14:04:42.559146Z",
     "start_time": "2025-01-10T14:04:41.757990Z"
    }
   },
   "cell_type": "code",
   "source": [
    "\"\"\"dataset = LineByLineTextDataset(\n",
    "    tokenizer=tokenizer,\n",
    "    file_path=combined_file,\n",
    "    block_size=64\n",
    ")\"\"\"\n",
    "\n",
    "dataset = load_dataset(path=\"text\",\n",
    "                       data_files=file_names,\n",
    "                       )"
   ],
   "id": "eb09c540324e47bf",
   "outputs": [],
   "execution_count": 32
  },
  {
   "metadata": {
    "ExecuteTime": {
     "end_time": "2025-01-10T14:04:43.078111Z",
     "start_time": "2025-01-10T14:04:42.570889Z"
    }
   },
   "cell_type": "code",
   "source": [
    "def tokenize_function(examples):\n",
    "    return tokenizer(examples[\"text\"], # select the text lines from dataset\n",
    "                     truncation=True,\n",
    "                     padding=\"max_length\",\n",
    "                     max_length=64)\n",
    "\n",
    "# map tokenize function to loaded dataset\n",
    "tokenized_dataset = dataset.map(tokenize_function,\n",
    "                                batched=True,\n",
    "                                remove_columns=[\"text\"])\n",
    "# now this tokenized dataset cas columns: input_ids, attention_masks, among other fields (text was removed)"
   ],
   "id": "d729315aa57ec1cd",
   "outputs": [],
   "execution_count": 33
  },
  {
   "metadata": {},
   "cell_type": "markdown",
   "source": [
    "Create a data collator, that will collate samples from the dataset to prepare batch processing.\n",
    "\n",
    "Prepare for Masked Language Modeling by setting mlm=True and specifying a masking probability of 0.15, meaning 15% of tokens will be masked during pretraining."
   ],
   "id": "4ffb3ac0ddb82d94"
  },
  {
   "metadata": {
    "ExecuteTime": {
     "end_time": "2025-01-10T14:04:43.093815Z",
     "start_time": "2025-01-10T14:04:43.089211Z"
    }
   },
   "cell_type": "code",
   "source": [
    "data_collator = DataCollatorForLanguageModeling(\n",
    "    tokenizer=tokenizer,\n",
    "    mlm=True,\n",
    "    mlm_probability=0.15\n",
    ")"
   ],
   "id": "c27c88f21539722d",
   "outputs": [],
   "execution_count": 34
  },
  {
   "metadata": {},
   "cell_type": "markdown",
   "source": [
    "### Training\n",
    "\n",
    "Initialize trainer:"
   ],
   "id": "5cc63e2047c7df3d"
  },
  {
   "metadata": {
    "ExecuteTime": {
     "end_time": "2025-01-10T14:04:43.292233Z",
     "start_time": "2025-01-10T14:04:43.134542Z"
    }
   },
   "cell_type": "code",
   "source": [
    "# instance of TrainingArguments that stores hyperparams\n",
    "training_args = TrainingArguments(\n",
    "    output_dir='../LawBERTarg/',\n",
    "    overwrite_output_dir=True,\n",
    "    num_train_epochs=3,\n",
    "    per_device_train_batch_size=16, # batch_size, low due to gpu memory restriction\n",
    "    save_steps=5000, # checkpoint saved every 10k steps\n",
    "    save_total_limit=4,\n",
    "    prediction_loss_only=True,\n",
    ")"
   ],
   "id": "8552671e9096d392",
   "outputs": [],
   "execution_count": 35
  },
  {
   "metadata": {
    "ExecuteTime": {
     "end_time": "2025-01-10T14:04:43.872240Z",
     "start_time": "2025-01-10T14:04:43.304546Z"
    }
   },
   "cell_type": "code",
   "source": [
    "device = \"cuda\" if torch.cuda.is_available() else \"cpu\"\n",
    "model.to(device)\n",
    "print(f\"Using device: {device}\")"
   ],
   "id": "dbb637983af91107",
   "outputs": [
    {
     "name": "stdout",
     "output_type": "stream",
     "text": [
      "Using device: cuda\n"
     ]
    }
   ],
   "execution_count": 36
  },
  {
   "metadata": {
    "ExecuteTime": {
     "end_time": "2025-01-10T14:04:43.920035Z",
     "start_time": "2025-01-10T14:04:43.888156Z"
    }
   },
   "cell_type": "code",
   "source": [
    "trainer = Trainer(\n",
    "    model=model, # the RoBERTa we initialized\n",
    "    args=training_args,\n",
    "    data_collator=data_collator,\n",
    "    #train_dataset=dataset,\n",
    "    train_dataset=tokenized_dataset[\"train\"],\n",
    ")"
   ],
   "id": "fe3479f334727d34",
   "outputs": [],
   "execution_count": 37
  },
  {
   "metadata": {},
   "cell_type": "markdown",
   "source": "Start pre-training:",
   "id": "f82a8ab6379f4d8e"
  },
  {
   "metadata": {
    "ExecuteTime": {
     "end_time": "2025-01-10T14:47:29.269059Z",
     "start_time": "2025-01-10T14:04:43.936988Z"
    }
   },
   "cell_type": "code",
   "source": [
    "%%time\n",
    "trainer.train()"
   ],
   "id": "df144da3ff5f6dbd",
   "outputs": [
    {
     "data": {
      "text/plain": [
       "<IPython.core.display.HTML object>"
      ],
      "text/html": [
       "\n",
       "    <div>\n",
       "      \n",
       "      <progress value='6162' max='6162' style='width:300px; height:20px; vertical-align: middle;'></progress>\n",
       "      [6162/6162 42:43, Epoch 3/3]\n",
       "    </div>\n",
       "    <table border=\"1\" class=\"dataframe\">\n",
       "  <thead>\n",
       " <tr style=\"text-align: left;\">\n",
       "      <th>Step</th>\n",
       "      <th>Training Loss</th>\n",
       "    </tr>\n",
       "  </thead>\n",
       "  <tbody>\n",
       "    <tr>\n",
       "      <td>500</td>\n",
       "      <td>7.294100</td>\n",
       "    </tr>\n",
       "    <tr>\n",
       "      <td>1000</td>\n",
       "      <td>6.511100</td>\n",
       "    </tr>\n",
       "    <tr>\n",
       "      <td>1500</td>\n",
       "      <td>6.207500</td>\n",
       "    </tr>\n",
       "    <tr>\n",
       "      <td>2000</td>\n",
       "      <td>6.078400</td>\n",
       "    </tr>\n",
       "    <tr>\n",
       "      <td>2500</td>\n",
       "      <td>5.919000</td>\n",
       "    </tr>\n",
       "    <tr>\n",
       "      <td>3000</td>\n",
       "      <td>5.853200</td>\n",
       "    </tr>\n",
       "    <tr>\n",
       "      <td>3500</td>\n",
       "      <td>5.745100</td>\n",
       "    </tr>\n",
       "    <tr>\n",
       "      <td>4000</td>\n",
       "      <td>5.772600</td>\n",
       "    </tr>\n",
       "    <tr>\n",
       "      <td>4500</td>\n",
       "      <td>5.638900</td>\n",
       "    </tr>\n",
       "    <tr>\n",
       "      <td>5000</td>\n",
       "      <td>5.589500</td>\n",
       "    </tr>\n",
       "    <tr>\n",
       "      <td>5500</td>\n",
       "      <td>5.579700</td>\n",
       "    </tr>\n",
       "    <tr>\n",
       "      <td>6000</td>\n",
       "      <td>5.545200</td>\n",
       "    </tr>\n",
       "  </tbody>\n",
       "</table><p>"
      ]
     },
     "metadata": {},
     "output_type": "display_data"
    },
    {
     "name": "stdout",
     "output_type": "stream",
     "text": [
      "CPU times: user 42min 39s, sys: 4.75 s, total: 42min 44s\n",
      "Wall time: 42min 45s\n"
     ]
    },
    {
     "data": {
      "text/plain": [
       "TrainOutput(global_step=6162, training_loss=5.967783966609233, metrics={'train_runtime': 2564.8615, 'train_samples_per_second': 38.423, 'train_steps_per_second': 2.402, 'total_flos': 1632967987507200.0, 'train_loss': 5.967783966609233, 'epoch': 3.0})"
      ]
     },
     "execution_count": 38,
     "metadata": {},
     "output_type": "execute_result"
    }
   ],
   "execution_count": 38
  },
  {
   "metadata": {},
   "cell_type": "markdown",
   "source": "Save model:",
   "id": "48d03e2adc898be7"
  },
  {
   "metadata": {
    "ExecuteTime": {
     "end_time": "2025-01-10T14:47:30.509245Z",
     "start_time": "2025-01-10T14:47:29.978916Z"
    }
   },
   "cell_type": "code",
   "source": "trainer.save_model(\"../LawBERTarg/\")",
   "id": "55657efaa7dcce26",
   "outputs": [],
   "execution_count": 39
  }
 ],
 "metadata": {
  "kernelspec": {
   "display_name": "Python 3",
   "language": "python",
   "name": "python3"
  },
  "language_info": {
   "codemirror_mode": {
    "name": "ipython",
    "version": 2
   },
   "file_extension": ".py",
   "mimetype": "text/x-python",
   "name": "python",
   "nbconvert_exporter": "python",
   "pygments_lexer": "ipython2",
   "version": "2.7.6"
  }
 },
 "nbformat": 4,
 "nbformat_minor": 5
}
