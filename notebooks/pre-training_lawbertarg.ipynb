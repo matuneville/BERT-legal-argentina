{
 "cells": [
  {
   "metadata": {},
   "cell_type": "markdown",
   "source": "# Pre-training",
   "id": "157ec2e09a1762"
  },
  {
   "metadata": {
    "collapsed": true,
    "ExecuteTime": {
     "end_time": "2025-01-14T13:05:40.293147Z",
     "start_time": "2025-01-14T13:05:11.783411Z"
    }
   },
   "cell_type": "code",
   "source": [
    "import os\n",
    "\n",
    "import torch # for cuda usage\n",
    "\n",
    "import transformers\n",
    "from transformers import RobertaConfig, RobertaTokenizer, RobertaForMaskedLM\n",
    "from transformers import LineByLineTextDataset, DataCollatorForLanguageModeling\n",
    "from transformers import Trainer, TrainingArguments\n",
    "\n",
    "from datasets import load_dataset"
   ],
   "id": "initial_id",
   "outputs": [],
   "execution_count": 2
  },
  {
   "metadata": {},
   "cell_type": "markdown",
   "source": "### Configuring model",
   "id": "92d1585cb7a06f3e"
  },
  {
   "metadata": {},
   "cell_type": "markdown",
   "source": [
    "\n",
    "We will pretrain a RoBERTa-style transformer model, configured with the same number of layers and attention heads as a DistilBERT model. The model will feature a vocabulary size of 52,000, 12 attention heads, and 6 layers."
   ],
   "id": "3e1f78e586d8af6d"
  },
  {
   "metadata": {
    "ExecuteTime": {
     "end_time": "2025-01-14T13:05:56.698604Z",
     "start_time": "2025-01-14T13:05:56.694157Z"
    }
   },
   "cell_type": "code",
   "source": [
    "config = RobertaConfig(vocab_size=20000,\n",
    "                       max_position_embeddings=514,\n",
    "                       num_attention_heads=12,\n",
    "                       num_hidden_layers=6,\n",
    "                       type_vocab_size=1,\n",
    "                       )\n",
    "print(config)"
   ],
   "id": "413154b6fb082bc2",
   "outputs": [
    {
     "name": "stdout",
     "output_type": "stream",
     "text": [
      "RobertaConfig {\n",
      "  \"attention_probs_dropout_prob\": 0.1,\n",
      "  \"bos_token_id\": 0,\n",
      "  \"classifier_dropout\": null,\n",
      "  \"eos_token_id\": 2,\n",
      "  \"hidden_act\": \"gelu\",\n",
      "  \"hidden_dropout_prob\": 0.1,\n",
      "  \"hidden_size\": 768,\n",
      "  \"initializer_range\": 0.02,\n",
      "  \"intermediate_size\": 3072,\n",
      "  \"layer_norm_eps\": 1e-12,\n",
      "  \"max_position_embeddings\": 514,\n",
      "  \"model_type\": \"roberta\",\n",
      "  \"num_attention_heads\": 12,\n",
      "  \"num_hidden_layers\": 6,\n",
      "  \"pad_token_id\": 1,\n",
      "  \"position_embedding_type\": \"absolute\",\n",
      "  \"transformers_version\": \"4.47.1\",\n",
      "  \"type_vocab_size\": 1,\n",
      "  \"use_cache\": true,\n",
      "  \"vocab_size\": 20000\n",
      "}\n",
      "\n"
     ]
    }
   ],
   "execution_count": 4
  },
  {
   "metadata": {},
   "cell_type": "markdown",
   "source": [
    "### Tokenizer\n",
    "\n",
    "Initialize tokenizer from the one I trained:"
   ],
   "id": "b9c77b88af657ce1"
  },
  {
   "metadata": {
    "ExecuteTime": {
     "end_time": "2025-01-14T13:05:58.555885Z",
     "start_time": "2025-01-14T13:05:58.277381Z"
    }
   },
   "cell_type": "code",
   "source": "tokenizer = RobertaTokenizer.from_pretrained('../LawBERTarg', max_len=512)",
   "id": "b18c6f48a5023357",
   "outputs": [],
   "execution_count": 5
  },
  {
   "metadata": {
    "ExecuteTime": {
     "end_time": "2025-01-14T13:05:59.014574Z",
     "start_time": "2025-01-14T13:05:59.010573Z"
    }
   },
   "cell_type": "code",
   "source": "print(tokenizer)",
   "id": "41868fe7063e5bef",
   "outputs": [
    {
     "name": "stdout",
     "output_type": "stream",
     "text": [
      "RobertaTokenizer(name_or_path='../LawBERTarg', vocab_size=13060, model_max_length=512, is_fast=False, padding_side='right', truncation_side='right', special_tokens={'bos_token': '<s>', 'eos_token': '</s>', 'unk_token': '<unk>', 'sep_token': '</s>', 'pad_token': '<pad>', 'cls_token': '<s>', 'mask_token': '<mask>'}, clean_up_tokenization_spaces=False, added_tokens_decoder={\n",
      "\t0: AddedToken(\"<pad>\", rstrip=False, lstrip=False, single_word=False, normalized=True, special=True),\n",
      "\t1: AddedToken(\"<unk>\", rstrip=False, lstrip=False, single_word=False, normalized=True, special=True),\n",
      "\t2: AddedToken(\"<s>\", rstrip=False, lstrip=False, single_word=False, normalized=True, special=True),\n",
      "\t3: AddedToken(\"</s>\", rstrip=False, lstrip=False, single_word=False, normalized=True, special=True),\n",
      "\t4: AddedToken(\"<mask>\", rstrip=False, lstrip=True, single_word=False, normalized=False, special=True),\n",
      "}\n",
      ")\n"
     ]
    }
   ],
   "execution_count": 6
  },
  {
   "metadata": {
    "ExecuteTime": {
     "end_time": "2025-01-14T13:06:00.166823Z",
     "start_time": "2025-01-14T13:06:00.163023Z"
    }
   },
   "cell_type": "code",
   "source": "print(tokenizer.vocab_size)",
   "id": "bbf1b3d520ca3ee5",
   "outputs": [
    {
     "name": "stdout",
     "output_type": "stream",
     "text": [
      "13060\n"
     ]
    }
   ],
   "execution_count": 7
  },
  {
   "metadata": {},
   "cell_type": "markdown",
   "source": "Test it:",
   "id": "83228d83a3da7f45"
  },
  {
   "metadata": {
    "ExecuteTime": {
     "end_time": "2025-01-14T13:06:27.844332Z",
     "start_time": "2025-01-14T13:06:27.839777Z"
    }
   },
   "cell_type": "code",
   "source": "print(tokenizer.tokenize(\"n) Emitir recomendaciones pro-competitivas de carácter general o sectorial respecto a las modalidades de la competencia en los mercados;\"))",
   "id": "bbbeab1132babe1c",
   "outputs": [
    {
     "name": "stdout",
     "output_type": "stream",
     "text": [
      "['n', ')', 'ĠEmitir', 'Ġrecomend', 'aciones', 'Ġpro', '-', 'competitivas', 'Ġde', 'ĠcarÃ¡cter', 'Ġgeneral', 'Ġo', 'Ġsectorial', 'Ġrespecto', 'Ġa', 'Ġlas', 'Ġmodalidades', 'Ġde', 'Ġla', 'Ġcompetencia', 'Ġen', 'Ġlos', 'Ġmercados', ';']\n"
     ]
    }
   ],
   "execution_count": 9
  },
  {
   "metadata": {},
   "cell_type": "markdown",
   "source": "Initialize model:",
   "id": "a4102e3c580a76e3"
  },
  {
   "metadata": {
    "ExecuteTime": {
     "end_time": "2025-01-14T13:06:36.837955Z",
     "start_time": "2025-01-14T13:06:35.593113Z"
    }
   },
   "cell_type": "code",
   "source": "model = RobertaForMaskedLM(config=config)",
   "id": "5d80a74089b72f97",
   "outputs": [],
   "execution_count": 10
  },
  {
   "metadata": {
    "ExecuteTime": {
     "end_time": "2025-01-14T13:06:36.993402Z",
     "start_time": "2025-01-14T13:06:36.988183Z"
    }
   },
   "cell_type": "code",
   "source": "print(model)",
   "id": "684e728ceef4c5e3",
   "outputs": [
    {
     "name": "stdout",
     "output_type": "stream",
     "text": [
      "RobertaForMaskedLM(\n",
      "  (roberta): RobertaModel(\n",
      "    (embeddings): RobertaEmbeddings(\n",
      "      (word_embeddings): Embedding(20000, 768, padding_idx=1)\n",
      "      (position_embeddings): Embedding(514, 768, padding_idx=1)\n",
      "      (token_type_embeddings): Embedding(1, 768)\n",
      "      (LayerNorm): LayerNorm((768,), eps=1e-12, elementwise_affine=True)\n",
      "      (dropout): Dropout(p=0.1, inplace=False)\n",
      "    )\n",
      "    (encoder): RobertaEncoder(\n",
      "      (layer): ModuleList(\n",
      "        (0-5): 6 x RobertaLayer(\n",
      "          (attention): RobertaAttention(\n",
      "            (self): RobertaSdpaSelfAttention(\n",
      "              (query): Linear(in_features=768, out_features=768, bias=True)\n",
      "              (key): Linear(in_features=768, out_features=768, bias=True)\n",
      "              (value): Linear(in_features=768, out_features=768, bias=True)\n",
      "              (dropout): Dropout(p=0.1, inplace=False)\n",
      "            )\n",
      "            (output): RobertaSelfOutput(\n",
      "              (dense): Linear(in_features=768, out_features=768, bias=True)\n",
      "              (LayerNorm): LayerNorm((768,), eps=1e-12, elementwise_affine=True)\n",
      "              (dropout): Dropout(p=0.1, inplace=False)\n",
      "            )\n",
      "          )\n",
      "          (intermediate): RobertaIntermediate(\n",
      "            (dense): Linear(in_features=768, out_features=3072, bias=True)\n",
      "            (intermediate_act_fn): GELUActivation()\n",
      "          )\n",
      "          (output): RobertaOutput(\n",
      "            (dense): Linear(in_features=3072, out_features=768, bias=True)\n",
      "            (LayerNorm): LayerNorm((768,), eps=1e-12, elementwise_affine=True)\n",
      "            (dropout): Dropout(p=0.1, inplace=False)\n",
      "          )\n",
      "        )\n",
      "      )\n",
      "    )\n",
      "  )\n",
      "  (lm_head): RobertaLMHead(\n",
      "    (dense): Linear(in_features=768, out_features=768, bias=True)\n",
      "    (layer_norm): LayerNorm((768,), eps=1e-12, elementwise_affine=True)\n",
      "    (decoder): Linear(in_features=768, out_features=20000, bias=True)\n",
      "  )\n",
      ")\n"
     ]
    }
   ],
   "execution_count": 11
  },
  {
   "metadata": {
    "ExecuteTime": {
     "end_time": "2025-01-14T13:06:39.009337Z",
     "start_time": "2025-01-14T13:06:39.004800Z"
    }
   },
   "cell_type": "code",
   "source": "print(model.num_parameters())",
   "id": "1bdbd7bd3019e08b",
   "outputs": [
    {
     "name": "stdout",
     "output_type": "stream",
     "text": [
      "58896416\n"
     ]
    }
   ],
   "execution_count": 12
  },
  {
   "metadata": {},
   "cell_type": "markdown",
   "source": [
    "### Loading data for processing\n",
    "\n",
    "Loading dataset:"
   ],
   "id": "429d94e4ecf69ae0"
  },
  {
   "metadata": {
    "ExecuteTime": {
     "end_time": "2025-01-14T13:06:41.819416Z",
     "start_time": "2025-01-14T13:06:41.814459Z"
    }
   },
   "cell_type": "code",
   "source": [
    "file_names = ['../data/ley_bases.txt', '../data/constitucion-nacional.txt']\n",
    "\n",
    "\"\"\"if os.path.exists('../data/') and os.path.isdir('../data/'):\n",
    "    file_names = os.listdir('../data/')\n",
    "\n",
    "file_names = ['../data/'+file_name for file_name in file_names]\n",
    "\n",
    "file_names\"\"\""
   ],
   "id": "184633014e65f324",
   "outputs": [
    {
     "data": {
      "text/plain": [
       "\"if os.path.exists('../data/') and os.path.isdir('../data/'):\\n    file_names = os.listdir('../data/')\\n\\nfile_names = ['../data/'+file_name for file_name in file_names]\\n\\nfile_names\""
      ]
     },
     "execution_count": 13,
     "metadata": {},
     "output_type": "execute_result"
    }
   ],
   "execution_count": 13
  },
  {
   "metadata": {},
   "cell_type": "markdown",
   "source": "Load the dataset to generate samples for batch training, with block_size=256 limiting the length of an example:",
   "id": "14b615e57514eb5d"
  },
  {
   "metadata": {
    "ExecuteTime": {
     "end_time": "2025-01-14T13:06:46.344768Z",
     "start_time": "2025-01-14T13:06:44.921562Z"
    }
   },
   "cell_type": "code",
   "source": [
    "\"\"\"dataset = LineByLineTextDataset(\n",
    "    tokenizer=tokenizer,\n",
    "    file_path=combined_file,\n",
    "    block_size=64\n",
    ")\"\"\"\n",
    "\n",
    "dataset = load_dataset(path=\"text\",\n",
    "                       data_files=file_names,\n",
    "                       )"
   ],
   "id": "eb09c540324e47bf",
   "outputs": [],
   "execution_count": 14
  },
  {
   "metadata": {
    "ExecuteTime": {
     "end_time": "2025-01-14T13:06:57.731249Z",
     "start_time": "2025-01-14T13:06:54.165784Z"
    }
   },
   "cell_type": "code",
   "source": [
    "def tokenize_function(examples):\n",
    "    return tokenizer(examples[\"text\"], # select the text lines from dataset\n",
    "                     truncation=True,\n",
    "                     padding=\"max_length\",\n",
    "                     max_length=128)\n",
    "\n",
    "# map tokenize function to loaded dataset\n",
    "tokenized_dataset = dataset.map(tokenize_function,\n",
    "                                batched=True,\n",
    "                                remove_columns=[\"text\"])\n",
    "# now this tokenized dataset cas columns: input_ids, attention_masks, among other fields (text was removed)"
   ],
   "id": "d729315aa57ec1cd",
   "outputs": [
    {
     "data": {
      "text/plain": [
       "Map:   0%|          | 0/10784 [00:00<?, ? examples/s]"
      ],
      "application/vnd.jupyter.widget-view+json": {
       "version_major": 2,
       "version_minor": 0,
       "model_id": "c475a1947a604529af1f39d19f24536e"
      }
     },
     "metadata": {},
     "output_type": "display_data"
    }
   ],
   "execution_count": 16
  },
  {
   "metadata": {},
   "cell_type": "markdown",
   "source": [
    "Create a data collator, that will collate samples from the dataset to prepare batch processing.\n",
    "\n",
    "Prepare for Masked Language Modeling by setting mlm=True and specifying a masking probability of 0.15, meaning 15% of tokens will be masked during pretraining."
   ],
   "id": "4ffb3ac0ddb82d94"
  },
  {
   "metadata": {
    "ExecuteTime": {
     "end_time": "2025-01-14T13:07:01.660197Z",
     "start_time": "2025-01-14T13:07:01.657093Z"
    }
   },
   "cell_type": "code",
   "source": [
    "data_collator = DataCollatorForLanguageModeling(\n",
    "    tokenizer=tokenizer,\n",
    "    mlm=True,\n",
    "    mlm_probability=0.15\n",
    ")"
   ],
   "id": "c27c88f21539722d",
   "outputs": [],
   "execution_count": 17
  },
  {
   "metadata": {},
   "cell_type": "markdown",
   "source": [
    "### Training\n",
    "\n",
    "Initialize trainer:"
   ],
   "id": "5cc63e2047c7df3d"
  },
  {
   "metadata": {
    "ExecuteTime": {
     "end_time": "2025-01-14T13:07:27.720021Z",
     "start_time": "2025-01-14T13:07:27.482068Z"
    }
   },
   "cell_type": "code",
   "source": [
    "# instance of TrainingArguments that stores hyperparams\n",
    "training_args = TrainingArguments(\n",
    "    output_dir='../LawBERTarg/',\n",
    "    overwrite_output_dir=True,\n",
    "    num_train_epochs=1,\n",
    "    learning_rate=5e-5,\n",
    "    per_device_train_batch_size=16, # batch_size, low due to gpu memory restriction\n",
    "    save_steps=2500,\n",
    "    prediction_loss_only=True,\n",
    "    label_smoothing_factor=0.1,\n",
    "    warmup_steps=500,\n",
    "    logging_steps=100,\n",
    ")"
   ],
   "id": "8552671e9096d392",
   "outputs": [],
   "execution_count": 18
  },
  {
   "metadata": {
    "ExecuteTime": {
     "end_time": "2025-01-14T13:07:29.569613Z",
     "start_time": "2025-01-14T13:07:29.111666Z"
    }
   },
   "cell_type": "code",
   "source": [
    "device = \"cuda\" if torch.cuda.is_available() else \"cpu\"\n",
    "model.to(device)\n",
    "print(f\"Using device: {device}\")"
   ],
   "id": "dbb637983af91107",
   "outputs": [
    {
     "name": "stdout",
     "output_type": "stream",
     "text": [
      "Using device: cuda\n"
     ]
    }
   ],
   "execution_count": 19
  },
  {
   "metadata": {
    "ExecuteTime": {
     "end_time": "2025-01-14T13:07:36.771366Z",
     "start_time": "2025-01-14T13:07:36.543369Z"
    }
   },
   "cell_type": "code",
   "source": [
    "trainer = Trainer(\n",
    "    model=model, # the RoBERTa we initialized\n",
    "    args=training_args,\n",
    "    data_collator=data_collator,\n",
    "    #train_dataset=dataset,\n",
    "    train_dataset=tokenized_dataset[\"train\"],\n",
    ")"
   ],
   "id": "fe3479f334727d34",
   "outputs": [],
   "execution_count": 20
  },
  {
   "metadata": {},
   "cell_type": "markdown",
   "source": "Start pre-training:",
   "id": "f82a8ab6379f4d8e"
  },
  {
   "metadata": {
    "ExecuteTime": {
     "end_time": "2025-01-14T13:16:04.982660Z",
     "start_time": "2025-01-14T13:08:07.553842Z"
    }
   },
   "cell_type": "code",
   "source": [
    "%%time\n",
    "trainer.train()"
   ],
   "id": "df144da3ff5f6dbd",
   "outputs": [
    {
     "data": {
      "text/plain": [
       "<IPython.core.display.HTML object>"
      ],
      "text/html": [
       "\n",
       "    <div>\n",
       "      \n",
       "      <progress value='674' max='674' style='width:300px; height:20px; vertical-align: middle;'></progress>\n",
       "      [674/674 07:55, Epoch 1/1]\n",
       "    </div>\n",
       "    <table border=\"1\" class=\"dataframe\">\n",
       "  <thead>\n",
       " <tr style=\"text-align: left;\">\n",
       "      <th>Step</th>\n",
       "      <th>Training Loss</th>\n",
       "    </tr>\n",
       "  </thead>\n",
       "  <tbody>\n",
       "    <tr>\n",
       "      <td>100</td>\n",
       "      <td>9.598600</td>\n",
       "    </tr>\n",
       "    <tr>\n",
       "      <td>200</td>\n",
       "      <td>8.533400</td>\n",
       "    </tr>\n",
       "    <tr>\n",
       "      <td>300</td>\n",
       "      <td>7.820200</td>\n",
       "    </tr>\n",
       "    <tr>\n",
       "      <td>400</td>\n",
       "      <td>7.530500</td>\n",
       "    </tr>\n",
       "    <tr>\n",
       "      <td>500</td>\n",
       "      <td>7.271700</td>\n",
       "    </tr>\n",
       "    <tr>\n",
       "      <td>600</td>\n",
       "      <td>7.383200</td>\n",
       "    </tr>\n",
       "  </tbody>\n",
       "</table><p>"
      ]
     },
     "metadata": {},
     "output_type": "display_data"
    },
    {
     "name": "stdout",
     "output_type": "stream",
     "text": [
      "CPU times: user 7min 54s, sys: 1.49 s, total: 7min 56s\n",
      "Wall time: 7min 57s\n"
     ]
    },
    {
     "data": {
      "text/plain": [
       "TrainOutput(global_step=674, training_loss=7.937554243410377, metrics={'train_runtime': 477.2365, 'train_samples_per_second': 22.597, 'train_steps_per_second': 1.412, 'total_flos': 357297732452352.0, 'train_loss': 7.937554243410377, 'epoch': 1.0})"
      ]
     },
     "execution_count": 21,
     "metadata": {},
     "output_type": "execute_result"
    }
   ],
   "execution_count": 21
  },
  {
   "metadata": {},
   "cell_type": "markdown",
   "source": "Save model:",
   "id": "48d03e2adc898be7"
  },
  {
   "metadata": {
    "ExecuteTime": {
     "end_time": "2025-01-14T13:16:25.140236Z",
     "start_time": "2025-01-14T13:16:24.548319Z"
    }
   },
   "cell_type": "code",
   "source": "trainer.save_model(\"../LawBERTarg/\")",
   "id": "55657efaa7dcce26",
   "outputs": [],
   "execution_count": 22
  },
  {
   "metadata": {},
   "cell_type": "code",
   "source": "",
   "id": "18ddd049fe2ffdb8",
   "outputs": [],
   "execution_count": null
  }
 ],
 "metadata": {
  "kernelspec": {
   "display_name": "Python 3",
   "language": "python",
   "name": "python3"
  },
  "language_info": {
   "codemirror_mode": {
    "name": "ipython",
    "version": 2
   },
   "file_extension": ".py",
   "mimetype": "text/x-python",
   "name": "python",
   "nbconvert_exporter": "python",
   "pygments_lexer": "ipython2",
   "version": "2.7.6"
  }
 },
 "nbformat": 4,
 "nbformat_minor": 5
}
