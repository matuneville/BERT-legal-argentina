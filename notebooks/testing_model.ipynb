{
 "cells": [
  {
   "metadata": {},
   "cell_type": "markdown",
   "source": "# Testing my pre-trained model",
   "id": "3bbcd56968ed767e"
  },
  {
   "cell_type": "code",
   "id": "initial_id",
   "metadata": {
    "collapsed": true,
    "ExecuteTime": {
     "end_time": "2025-01-11T18:15:21.063234Z",
     "start_time": "2025-01-11T18:15:16.229645Z"
    }
   },
   "source": "from transformers import pipeline",
   "outputs": [],
   "execution_count": 1
  },
  {
   "metadata": {},
   "cell_type": "markdown",
   "source": "MLM task",
   "id": "3c65c7badc0edebd"
  },
  {
   "metadata": {
    "ExecuteTime": {
     "end_time": "2025-01-11T18:16:00.552783Z",
     "start_time": "2025-01-11T18:15:56.599994Z"
    }
   },
   "cell_type": "code",
   "source": [
    "fill_mask = pipeline(\n",
    "    task='fill-mask',\n",
    "    model='../LawBERTarg',\n",
    "    tokenizer='../LawBERTarg'\n",
    ")"
   ],
   "id": "8b3c94635f02dbb1",
   "outputs": [
    {
     "name": "stderr",
     "output_type": "stream",
     "text": [
      "Device set to use cuda:0\n"
     ]
    }
   ],
   "execution_count": 2
  },
  {
   "metadata": {
    "ExecuteTime": {
     "end_time": "2025-01-11T18:19:23.693047Z",
     "start_time": "2025-01-11T18:19:23.649966Z"
    }
   },
   "cell_type": "code",
   "source": "fill_mask('Articulo 257. - El recurso <mask> deberá') # Art. or Articulo expected",
   "id": "35897925569af003",
   "outputs": [
    {
     "data": {
      "text/plain": [
       "[{'score': 0.08306664973497391,\n",
       "  'token': 305,\n",
       "  'token_str': ' de',\n",
       "  'sequence': 'Articulo 257. - El recurso de deberá'},\n",
       " {'score': 0.046216607093811035,\n",
       "  'token': 1477,\n",
       "  'token_str': ' la',\n",
       "  'sequence': 'Articulo 257. - El recurso la deberá'},\n",
       " {'score': 0.025349436327815056,\n",
       "  'token': 271,\n",
       "  'token_str': 'os',\n",
       "  'sequence': 'Articulo 257. - El recursoos deberá'},\n",
       " {'score': 0.024163128808140755,\n",
       "  'token': 30,\n",
       "  'token_str': ':',\n",
       "  'sequence': 'Articulo 257. - El recurso: deberá'},\n",
       " {'score': 0.017308803275227547,\n",
       "  'token': 18,\n",
       "  'token_str': '.',\n",
       "  'sequence': 'Articulo 257. - El recurso. deberá'}]"
      ]
     },
     "execution_count": 8,
     "metadata": {},
     "output_type": "execute_result"
    }
   ],
   "execution_count": 8
  },
  {
   "metadata": {
    "ExecuteTime": {
     "end_time": "2025-01-11T00:59:59.796117Z",
     "start_time": "2025-01-11T00:59:59.447762Z"
    }
   },
   "cell_type": "code",
   "source": [
    "fill_mask('b) hubiere vencido el <mask> de permanencia de la mercadería sometida a la destinación de depósito de almacenamiento,')\n",
    "# \"plazo\" expected"
   ],
   "id": "607c2bf1c8b8041f",
   "outputs": [
    {
     "data": {
      "text/plain": [
       "[{'score': 0.062259308993816376,\n",
       "  'token': 262,\n",
       "  'token_str': ' de',\n",
       "  'sequence': 'b) hubiere vencido el de de permanencia de la mercadería sometida a la destinación de depósito de almacenamiento,'},\n",
       " {'score': 0.05095643922686577,\n",
       "  'token': 274,\n",
       "  'token_str': ' la',\n",
       "  'sequence': 'b) hubiere vencido el la de permanencia de la mercadería sometida a la destinación de depósito de almacenamiento,'},\n",
       " {'score': 0.029417891055345535,\n",
       "  'token': 16,\n",
       "  'token_str': ',',\n",
       "  'sequence': 'b) hubiere vencido el, de permanencia de la mercadería sometida a la destinación de depósito de almacenamiento,'},\n",
       " {'score': 0.027775924652814865,\n",
       "  'token': 297,\n",
       "  'token_str': ' que',\n",
       "  'sequence': 'b) hubiere vencido el que de permanencia de la mercadería sometida a la destinación de depósito de almacenamiento,'},\n",
       " {'score': 0.024003004655241966,\n",
       "  'token': 294,\n",
       "  'token_str': ' en',\n",
       "  'sequence': 'b) hubiere vencido el en de permanencia de la mercadería sometida a la destinación de depósito de almacenamiento,'}]"
      ]
     },
     "execution_count": 4,
     "metadata": {},
     "output_type": "execute_result"
    }
   ],
   "execution_count": 4
  },
  {
   "metadata": {
    "ExecuteTime": {
     "end_time": "2025-01-11T18:18:53.569619Z",
     "start_time": "2025-01-11T18:18:53.524582Z"
    }
   },
   "cell_type": "code",
   "source": [
    "fill_mask('Será reprimido con prisión de 6 meses a 2 <mask> el que con una aeronave atravesase clandestina o maliciosamente la frontera')\n",
    "# \"años\" expected"
   ],
   "id": "4971d680a78d6f66",
   "outputs": [
    {
     "data": {
      "text/plain": [
       "[{'score': 0.07933888584375381,\n",
       "  'token': 305,\n",
       "  'token_str': ' de',\n",
       "  'sequence': 'Será reprimido con prisión de 6 meses a 2 de el que con una aeronave atravesase clandestina o maliciosamente la frontera'},\n",
       " {'score': 0.05086999386548996,\n",
       "  'token': 16,\n",
       "  'token_str': ',',\n",
       "  'sequence': 'Será reprimido con prisión de 6 meses a 2, el que con una aeronave atravesase clandestina o maliciosamente la frontera'},\n",
       " {'score': 0.03838418424129486,\n",
       "  'token': 1477,\n",
       "  'token_str': ' la',\n",
       "  'sequence': 'Será reprimido con prisión de 6 meses a 2 la el que con una aeronave atravesase clandestina o maliciosamente la frontera'},\n",
       " {'score': 0.03201258182525635,\n",
       "  'token': 491,\n",
       "  'token_str': ' l',\n",
       "  'sequence': 'Será reprimido con prisión de 6 meses a 2 l el que con una aeronave atravesase clandestina o maliciosamente la frontera'},\n",
       " {'score': 0.029766131192445755,\n",
       "  'token': 1125,\n",
       "  'token_str': ' el',\n",
       "  'sequence': 'Será reprimido con prisión de 6 meses a 2 el el que con una aeronave atravesase clandestina o maliciosamente la frontera'}]"
      ]
     },
     "execution_count": 5,
     "metadata": {},
     "output_type": "execute_result"
    }
   ],
   "execution_count": 5
  },
  {
   "metadata": {
    "ExecuteTime": {
     "end_time": "2025-01-11T18:18:56.623809Z",
     "start_time": "2025-01-11T18:18:56.593081Z"
    }
   },
   "cell_type": "code",
   "source": "fill_mask('Será reprimido con <mask> de 6 meses a 2 años el que con una aeronave atravesase clandestina o maliciosamente la frontera')",
   "id": "effb4fd4617466d",
   "outputs": [
    {
     "data": {
      "text/plain": [
       "[{'score': 0.07317666709423065,\n",
       "  'token': 305,\n",
       "  'token_str': ' de',\n",
       "  'sequence': 'Será reprimido con de de 6 meses a 2 años el que con una aeronave atravesase clandestina o maliciosamente la frontera'},\n",
       " {'score': 0.047059785574674606,\n",
       "  'token': 491,\n",
       "  'token_str': ' l',\n",
       "  'sequence': 'Será reprimido con l de 6 meses a 2 años el que con una aeronave atravesase clandestina o maliciosamente la frontera'},\n",
       " {'score': 0.03406614065170288,\n",
       "  'token': 1477,\n",
       "  'token_str': ' la',\n",
       "  'sequence': 'Será reprimido con la de 6 meses a 2 años el que con una aeronave atravesase clandestina o maliciosamente la frontera'},\n",
       " {'score': 0.03239106759428978,\n",
       "  'token': 16,\n",
       "  'token_str': ',',\n",
       "  'sequence': 'Será reprimido con, de 6 meses a 2 años el que con una aeronave atravesase clandestina o maliciosamente la frontera'},\n",
       " {'score': 0.025769513100385666,\n",
       "  'token': 650,\n",
       "  'token_str': ' que',\n",
       "  'sequence': 'Será reprimido con que de 6 meses a 2 años el que con una aeronave atravesase clandestina o maliciosamente la frontera'}]"
      ]
     },
     "execution_count": 6,
     "metadata": {},
     "output_type": "execute_result"
    }
   ],
   "execution_count": 6
  },
  {
   "metadata": {},
   "cell_type": "code",
   "outputs": [],
   "execution_count": null,
   "source": "",
   "id": "58797db0e85249e8"
  }
 ],
 "metadata": {
  "kernelspec": {
   "display_name": "Python 3",
   "language": "python",
   "name": "python3"
  },
  "language_info": {
   "codemirror_mode": {
    "name": "ipython",
    "version": 2
   },
   "file_extension": ".py",
   "mimetype": "text/x-python",
   "name": "python",
   "nbconvert_exporter": "python",
   "pygments_lexer": "ipython2",
   "version": "2.7.6"
  }
 },
 "nbformat": 4,
 "nbformat_minor": 5
}
