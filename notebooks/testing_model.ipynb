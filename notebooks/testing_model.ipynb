{
 "cells": [
  {
   "metadata": {},
   "cell_type": "markdown",
   "source": "# Testing my pre-trained model",
   "id": "3bbcd56968ed767e"
  },
  {
   "cell_type": "code",
   "id": "initial_id",
   "metadata": {
    "collapsed": true,
    "ExecuteTime": {
     "end_time": "2025-01-11T00:59:00.701320Z",
     "start_time": "2025-01-11T00:58:34.935766Z"
    }
   },
   "source": "from transformers import pipeline",
   "outputs": [],
   "execution_count": 1
  },
  {
   "metadata": {},
   "cell_type": "markdown",
   "source": "MLM task",
   "id": "3c65c7badc0edebd"
  },
  {
   "metadata": {
    "ExecuteTime": {
     "end_time": "2025-01-11T00:59:07.766998Z",
     "start_time": "2025-01-11T00:59:00.717518Z"
    }
   },
   "cell_type": "code",
   "source": [
    "fill_mask = pipeline(\n",
    "    task='fill-mask',\n",
    "    model='../LawBERTarg/re-train-checkpoint-6162',\n",
    "    tokenizer='../LawBERTarg/re-train-checkpoint-6162'\n",
    ")"
   ],
   "id": "8b3c94635f02dbb1",
   "outputs": [
    {
     "name": "stderr",
     "output_type": "stream",
     "text": [
      "Device set to use cuda:0\n"
     ]
    }
   ],
   "execution_count": 2
  },
  {
   "metadata": {},
   "cell_type": "code",
   "source": "fill_mask('<mask> 257. - El recurso extraordinario deberá') # Art. or Articulo expected",
   "id": "35897925569af003",
   "outputs": [],
   "execution_count": null
  },
  {
   "metadata": {
    "ExecuteTime": {
     "end_time": "2025-01-11T00:59:59.796117Z",
     "start_time": "2025-01-11T00:59:59.447762Z"
    }
   },
   "cell_type": "code",
   "source": [
    "fill_mask('b) hubiere vencido el <mask> de permanencia de la mercadería sometida a la destinación de depósito de almacenamiento,')\n",
    "# \"plazo\" expected"
   ],
   "id": "607c2bf1c8b8041f",
   "outputs": [
    {
     "data": {
      "text/plain": [
       "[{'score': 0.062259308993816376,\n",
       "  'token': 262,\n",
       "  'token_str': ' de',\n",
       "  'sequence': 'b) hubiere vencido el de de permanencia de la mercadería sometida a la destinación de depósito de almacenamiento,'},\n",
       " {'score': 0.05095643922686577,\n",
       "  'token': 274,\n",
       "  'token_str': ' la',\n",
       "  'sequence': 'b) hubiere vencido el la de permanencia de la mercadería sometida a la destinación de depósito de almacenamiento,'},\n",
       " {'score': 0.029417891055345535,\n",
       "  'token': 16,\n",
       "  'token_str': ',',\n",
       "  'sequence': 'b) hubiere vencido el, de permanencia de la mercadería sometida a la destinación de depósito de almacenamiento,'},\n",
       " {'score': 0.027775924652814865,\n",
       "  'token': 297,\n",
       "  'token_str': ' que',\n",
       "  'sequence': 'b) hubiere vencido el que de permanencia de la mercadería sometida a la destinación de depósito de almacenamiento,'},\n",
       " {'score': 0.024003004655241966,\n",
       "  'token': 294,\n",
       "  'token_str': ' en',\n",
       "  'sequence': 'b) hubiere vencido el en de permanencia de la mercadería sometida a la destinación de depósito de almacenamiento,'}]"
      ]
     },
     "execution_count": 4,
     "metadata": {},
     "output_type": "execute_result"
    }
   ],
   "execution_count": 4
  },
  {
   "metadata": {
    "ExecuteTime": {
     "end_time": "2025-01-11T01:00:33.439540Z",
     "start_time": "2025-01-11T01:00:33.403532Z"
    }
   },
   "cell_type": "code",
   "source": [
    "fill_mask('Será reprimido con prisión de 6 meses a 2 <mask> el que con una aeronave atravesase clandestina o maliciosamente la frontera')\n",
    "# \"años\" expected"
   ],
   "id": "4971d680a78d6f66",
   "outputs": [
    {
     "data": {
      "text/plain": [
       "[{'score': 0.0759429782629013,\n",
       "  'token': 262,\n",
       "  'token_str': ' de',\n",
       "  'sequence': 'Será reprimido con prisión de 6 meses a 2 de el que con una aeronave atravesase clandestina o maliciosamente la frontera'},\n",
       " {'score': 0.0754854828119278,\n",
       "  'token': 16,\n",
       "  'token_str': ',',\n",
       "  'sequence': 'Será reprimido con prisión de 6 meses a 2, el que con una aeronave atravesase clandestina o maliciosamente la frontera'},\n",
       " {'score': 0.03811396285891533,\n",
       "  'token': 274,\n",
       "  'token_str': ' la',\n",
       "  'sequence': 'Será reprimido con prisión de 6 meses a 2 la el que con una aeronave atravesase clandestina o maliciosamente la frontera'},\n",
       " {'score': 0.028679924085736275,\n",
       "  'token': 297,\n",
       "  'token_str': ' que',\n",
       "  'sequence': 'Será reprimido con prisión de 6 meses a 2 que el que con una aeronave atravesase clandestina o maliciosamente la frontera'},\n",
       " {'score': 0.027958936989307404,\n",
       "  'token': 294,\n",
       "  'token_str': ' en',\n",
       "  'sequence': 'Será reprimido con prisión de 6 meses a 2 en el que con una aeronave atravesase clandestina o maliciosamente la frontera'}]"
      ]
     },
     "execution_count": 5,
     "metadata": {},
     "output_type": "execute_result"
    }
   ],
   "execution_count": 5
  },
  {
   "metadata": {
    "ExecuteTime": {
     "end_time": "2025-01-11T01:04:26.595522Z",
     "start_time": "2025-01-11T01:04:26.557577Z"
    }
   },
   "cell_type": "code",
   "source": "fill_mask('Será reprimido con <mask> de 6 meses a 2 años el que con una aeronave atravesase clandestina o maliciosamente la frontera')",
   "id": "effb4fd4617466d",
   "outputs": [
    {
     "data": {
      "text/plain": [
       "[{'score': 0.04567676782608032,\n",
       "  'token': 262,\n",
       "  'token_str': ' de',\n",
       "  'sequence': 'Será reprimido con de de 6 meses a 2 años el que con una aeronave atravesase clandestina o maliciosamente la frontera'},\n",
       " {'score': 0.03272271156311035,\n",
       "  'token': 297,\n",
       "  'token_str': ' que',\n",
       "  'sequence': 'Será reprimido con que de 6 meses a 2 años el que con una aeronave atravesase clandestina o maliciosamente la frontera'},\n",
       " {'score': 0.029807457700371742,\n",
       "  'token': 286,\n",
       "  'token_str': ' el',\n",
       "  'sequence': 'Será reprimido con el de 6 meses a 2 años el que con una aeronave atravesase clandestina o maliciosamente la frontera'},\n",
       " {'score': 0.028430471196770668,\n",
       "  'token': 16,\n",
       "  'token_str': ',',\n",
       "  'sequence': 'Será reprimido con, de 6 meses a 2 años el que con una aeronave atravesase clandestina o maliciosamente la frontera'},\n",
       " {'score': 0.02698650024831295,\n",
       "  'token': 301,\n",
       "  'token_str': ' se',\n",
       "  'sequence': 'Será reprimido con se de 6 meses a 2 años el que con una aeronave atravesase clandestina o maliciosamente la frontera'}]"
      ]
     },
     "execution_count": 8,
     "metadata": {},
     "output_type": "execute_result"
    }
   ],
   "execution_count": 8
  },
  {
   "metadata": {
    "ExecuteTime": {
     "end_time": "2025-01-11T01:06:43.010758Z",
     "start_time": "2025-01-11T01:06:42.804340Z"
    }
   },
   "cell_type": "code",
   "source": "print()",
   "id": "7d0f11e77630007a",
   "outputs": [
    {
     "ename": "NameError",
     "evalue": "name 'fill_mask' is not defined",
     "output_type": "error",
     "traceback": [
      "\u001B[0;31m---------------------------------------------------------------------------\u001B[0m",
      "\u001B[0;31mNameError\u001B[0m                                 Traceback (most recent call last)",
      "Cell \u001B[0;32mIn[1], line 1\u001B[0m\n\u001B[0;32m----> 1\u001B[0m \u001B[43mfill_mask\u001B[49m()\n",
      "\u001B[0;31mNameError\u001B[0m: name 'fill_mask' is not defined"
     ]
    }
   ],
   "execution_count": 1
  },
  {
   "metadata": {},
   "cell_type": "code",
   "outputs": [],
   "execution_count": null,
   "source": "",
   "id": "58797db0e85249e8"
  }
 ],
 "metadata": {
  "kernelspec": {
   "display_name": "Python 3",
   "language": "python",
   "name": "python3"
  },
  "language_info": {
   "codemirror_mode": {
    "name": "ipython",
    "version": 2
   },
   "file_extension": ".py",
   "mimetype": "text/x-python",
   "name": "python",
   "nbconvert_exporter": "python",
   "pygments_lexer": "ipython2",
   "version": "2.7.6"
  }
 },
 "nbformat": 4,
 "nbformat_minor": 5
}
