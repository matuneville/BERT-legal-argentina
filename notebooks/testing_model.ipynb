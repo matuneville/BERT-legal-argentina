{
 "cells": [
  {
   "metadata": {},
   "cell_type": "markdown",
   "source": "# Testing my pre-trained model",
   "id": "3bbcd56968ed767e"
  },
  {
   "cell_type": "code",
   "id": "initial_id",
   "metadata": {
    "collapsed": true,
    "ExecuteTime": {
     "end_time": "2025-01-14T13:16:43.078735Z",
     "start_time": "2025-01-14T13:16:37.956179Z"
    }
   },
   "source": "from transformers import pipeline",
   "outputs": [],
   "execution_count": 1
  },
  {
   "metadata": {},
   "cell_type": "markdown",
   "source": "MLM task",
   "id": "3c65c7badc0edebd"
  },
  {
   "metadata": {
    "ExecuteTime": {
     "end_time": "2025-01-14T13:18:33.727533Z",
     "start_time": "2025-01-14T13:18:33.420Z"
    }
   },
   "cell_type": "code",
   "source": [
    "fill_mask = pipeline(\n",
    "    task='fill-mask',\n",
    "    model='../LawBERTarg',\n",
    "    tokenizer='../LawBERTarg',\n",
    "    top_k=50\n",
    ")"
   ],
   "id": "8b3c94635f02dbb1",
   "outputs": [
    {
     "name": "stderr",
     "output_type": "stream",
     "text": [
      "Device set to use cuda:0\n"
     ]
    }
   ],
   "execution_count": 9
  },
  {
   "metadata": {
    "ExecuteTime": {
     "end_time": "2025-01-14T13:18:33.870759Z",
     "start_time": "2025-01-14T13:18:33.837725Z"
    }
   },
   "cell_type": "code",
   "source": [
    "masked_text = \"\"\"\n",
    "Promover y asegurar la vigencia efectiva, en todo el territorio nacional, de un sistema económico basado en decisiones libres, adoptadas en un ámbito de libre concurrencia y competencia, con respeto a la propiedad e iniciativa privada y a los principios constitucionales de <mask> circulación de bienes, servicios y trabajo.\n",
    "\"\"\"\n",
    "\n",
    "predicts = fill_mask(masked_text)\n",
    "\n",
    "mask_predicts = [p[\"token_str\"] for p in predicts]\n",
    "print(mask_predicts)"
   ],
   "id": "9b7eb58a1b1ba23b",
   "outputs": [
    {
     "name": "stdout",
     "output_type": "stream",
     "text": [
      "[' la', ',', ' de', ' a', ' y', ' el', ' en', ' del', ' los', ' que', ' las', '.', ' o', ' se', ' por', '.-', ' para', ' con', ' Ley', ' artículo', ' al', '°', ' su', ' (', ':', ')', ' presente', ' no', ' un', ' N', ' ley', ' ser', ' podrá', ' sus', ' caso', ' una', ';', '/', ' como', ' lo', ' Sustitúyese', '.”', ' serán', ' El', ' La', ' siguiente', ' Los', ' 26', ' sin', ' días']\n"
     ]
    }
   ],
   "execution_count": 10
  },
  {
   "metadata": {
    "ExecuteTime": {
     "end_time": "2025-01-14T13:18:34.582057Z",
     "start_time": "2025-01-14T13:18:34.546557Z"
    }
   },
   "cell_type": "code",
   "source": [
    "masked_text = \"\"\"\n",
    "ANEXO II RÉGIMEN DE INCENTIVO PARA GRANDES INVERSIONES (RIGI)\n",
    "CAPITULO I. CREACIÓN DEL RÉGIMEN DE INCENTIVO PARA <mask> INVERSIONES (RIGI) Y OBJETIVOS\n",
    "ARTÍCULO 1°.- Creación – Ámbito de Aplicación. Créase el RÉGIMEN DE INCENTIVO PARA GRANDES INVERSIONES (RIGI) por el que se establecen, para vehículos titulares de un único proyecto que cumplan con los requisitos previstos en el presente, ciertos incentivos, certidumbre, seguridad jurídica y un sistema eficiente de protección de derechos adquiridos a su amparo.\n",
    "\"\"\"\n",
    "\n",
    "predicts = fill_mask(masked_text)\n",
    "\n",
    "mask_predicts = [p[\"token_str\"] for p in predicts]\n",
    "print(mask_predicts)"
   ],
   "id": "246c1da7499ca093",
   "outputs": [
    {
     "name": "stdout",
     "output_type": "stream",
     "text": [
      "[' de', ' la', ',', ' y', ' a', '.', ' el', ' en', ' del', ' los', ' o', ' las', ' que', ' por', ' se', '.-', ' con', ' Ley', ' su', '°', ':', ' (', ' al', ')', ' N', ' artículo', ' para', ' un', ' no', ';', ' presente', ' ley', ' una', ' sus', ' lo', ' ser', ' Sustitúyese', ' podrá', ' caso', '.”', ' siguiente', '/', ' como', ' sin', ' será', ' días', ' Nación', ' El', ' nacional', ' La']\n"
     ]
    }
   ],
   "execution_count": 11
  },
  {
   "metadata": {
    "ExecuteTime": {
     "end_time": "2025-01-14T13:19:19.411078Z",
     "start_time": "2025-01-14T13:19:19.374866Z"
    }
   },
   "cell_type": "code",
   "source": [
    "masked_text = \"\"\"\n",
    "ARTÍCULO 17.- <mask> el artículo 98 de la Ley N° 24.156, por el siguiente:\n",
    "\"\"\"\n",
    "\n",
    "predicts = fill_mask(masked_text)\n",
    "\n",
    "mask_predicts = [p[\"token_str\"] for p in predicts]\n",
    "print(mask_predicts)"
   ],
   "id": "bd5fa7c330048c72",
   "outputs": [
    {
     "name": "stdout",
     "output_type": "stream",
     "text": [
      "[' de', ' la', ' el', ',', ' y', '.', ' en', ' a', ' del', ' las', ' los', ' que', ' o', ' se', ' por', ' Sustitúyese', '°', '.-', ' con', ' para', ' al', ':', ' un', ' su', ' (', ' artículo', ' ley', ' Ley', ' N', ')', ' presente', ' una', ' siguiente', ';', ' El', ' no', ' sus', ' podrá', ' ser', ' lo', '.”', '/', ' caso', ' como', ' será', ' La', ' días', ' serán', ' Los', ' Las']\n"
     ]
    }
   ],
   "execution_count": 13
  },
  {
   "metadata": {},
   "cell_type": "code",
   "outputs": [],
   "execution_count": null,
   "source": "",
   "id": "24de451e79d6bf74"
  }
 ],
 "metadata": {
  "kernelspec": {
   "display_name": "Python 3",
   "language": "python",
   "name": "python3"
  },
  "language_info": {
   "codemirror_mode": {
    "name": "ipython",
    "version": 2
   },
   "file_extension": ".py",
   "mimetype": "text/x-python",
   "name": "python",
   "nbconvert_exporter": "python",
   "pygments_lexer": "ipython2",
   "version": "2.7.6"
  }
 },
 "nbformat": 4,
 "nbformat_minor": 5
}
