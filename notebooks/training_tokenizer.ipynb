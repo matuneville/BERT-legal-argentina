{
 "cells": [
  {
   "cell_type": "code",
   "id": "initial_id",
   "metadata": {
    "collapsed": true,
    "ExecuteTime": {
     "end_time": "2025-01-10T15:05:14.497737Z",
     "start_time": "2025-01-10T15:05:14.493638Z"
    }
   },
   "source": [
    "from tokenizers.implementations import ByteLevelBPETokenizer\n",
    "from tokenizers.processors import BertProcessing\n",
    "\n",
    "import os"
   ],
   "outputs": [],
   "execution_count": 3
  },
  {
   "metadata": {
    "ExecuteTime": {
     "end_time": "2025-01-10T15:05:14.644485Z",
     "start_time": "2025-01-10T15:05:14.545670Z"
    }
   },
   "cell_type": "code",
   "source": [
    "file_names = []\n",
    "\n",
    "if os.path.exists('../data/') and os.path.isdir('../data/'):\n",
    "    file_names = os.listdir('../data/')\n",
    "\n",
    "file_names = ['../data/'+file_name for file_name in file_names]\n",
    "\n",
    "file_names"
   ],
   "id": "f613e35f7c114d17",
   "outputs": [
    {
     "data": {
      "text/plain": [
       "['../data/codigo_penal.txt',\n",
       " '../data/codigo_de_etica_publica.txt',\n",
       " '../data/codigo_procesal_penal_federal.txt',\n",
       " '../data/codigo_aeronautico.txt',\n",
       " '../data/codigo_procesal_civil_y_comercial.txt',\n",
       " '../data/codigo_aduanero.txt',\n",
       " '../data/codigo_electoral_nacional.txt',\n",
       " '../data/codigo_civil_y_comercial.txt',\n",
       " '../data/codigo_alimentario_argentino.txt',\n",
       " '../data/constitucion-nacional.txt',\n",
       " '../data/codigo_de_mineria.txt']"
      ]
     },
     "execution_count": 4,
     "metadata": {},
     "output_type": "execute_result"
    }
   ],
   "execution_count": 4
  },
  {
   "metadata": {
    "ExecuteTime": {
     "end_time": "2025-01-10T15:05:15.900856Z",
     "start_time": "2025-01-10T15:05:14.656840Z"
    }
   },
   "cell_type": "code",
   "source": [
    "tokenizer = ByteLevelBPETokenizer()\n",
    "\n",
    "# ensure tokenizer reserves the special tokens for the vocab\n",
    "# (using the same as RoBERTa needs)\n",
    "special_tokens = [\n",
    "    \"<pad>\",\n",
    "    \"<unk>\",\n",
    "    \"<s>\",\n",
    "    \"</s>\",\n",
    "    \"<mask>\"\n",
    "]\n",
    "\n",
    "tokenizer.train(files=file_names,\n",
    "                vocab_size=30000,\n",
    "                min_frequency=2,\n",
    "                special_tokens=special_tokens,\n",
    "                show_progress=True)"
   ],
   "id": "490607c88d80e78d",
   "outputs": [
    {
     "name": "stdout",
     "output_type": "stream",
     "text": [
      "\n",
      "\n",
      "\n"
     ]
    }
   ],
   "execution_count": 5
  },
  {
   "metadata": {},
   "cell_type": "markdown",
   "source": "Save files to disk",
   "id": "ae8162bd3619fa9c"
  },
  {
   "metadata": {
    "ExecuteTime": {
     "end_time": "2025-01-10T15:05:15.934235Z",
     "start_time": "2025-01-10T15:05:15.919308Z"
    }
   },
   "cell_type": "code",
   "source": [
    "token_dir = '../LawBERTarg/'\n",
    "if not os.path.exists(token_dir):\n",
    "    os.makedirs(token_dir)\n",
    "tokenizer.save_model(token_dir)"
   ],
   "id": "db6d4d56f526b774",
   "outputs": [
    {
     "data": {
      "text/plain": [
       "['../LawBERTarg/vocab.json', '../LawBERTarg/merges.txt']"
      ]
     },
     "execution_count": 6,
     "metadata": {},
     "output_type": "execute_result"
    }
   ],
   "execution_count": 6
  },
  {
   "metadata": {},
   "cell_type": "markdown",
   "source": "## Testing tokenizer",
   "id": "ef6756cd9216a133"
  },
  {
   "metadata": {
    "ExecuteTime": {
     "end_time": "2025-01-10T15:05:16.083715Z",
     "start_time": "2025-01-10T15:05:15.963274Z"
    }
   },
   "cell_type": "code",
   "source": [
    "tokenizer = ByteLevelBPETokenizer(vocab = '../LawBERTarg/vocab.json',\n",
    "                                  merges = '../LawBERTarg/merges.txt',\n",
    "                                  lowercase = False,)"
   ],
   "id": "2f4dd831307621f9",
   "outputs": [],
   "execution_count": 7
  },
  {
   "metadata": {},
   "cell_type": "markdown",
   "source": "Example encodings:",
   "id": "27d6393a3dc61ec0"
  },
  {
   "metadata": {
    "ExecuteTime": {
     "end_time": "2025-01-10T15:05:16.196636Z",
     "start_time": "2025-01-10T15:05:16.100526Z"
    }
   },
   "cell_type": "code",
   "source": "print(tokenizer.encode(\"la ley prohibe a\").tokens)",
   "id": "de55934780f2fce2",
   "outputs": [
    {
     "name": "stdout",
     "output_type": "stream",
     "text": [
      "['la', 'Ġley', 'Ġproh', 'ibe', 'Ġa']\n"
     ]
    }
   ],
   "execution_count": 8
  },
  {
   "metadata": {
    "ExecuteTime": {
     "end_time": "2025-01-10T15:05:16.295228Z",
     "start_time": "2025-01-10T15:05:16.226396Z"
    }
   },
   "cell_type": "code",
   "source": "print(tokenizer.encode(\"Aquel que dañe obra pública u obrare en\").tokens)",
   "id": "fe61dcdd35085a7",
   "outputs": [
    {
     "name": "stdout",
     "output_type": "stream",
     "text": [
      "['A', 'quel', 'Ġque', 'Ġda', 'Ã±e', 'Ġobra', 'ĠpÃºblica', 'Ġu', 'Ġobrare', 'Ġen']\n"
     ]
    }
   ],
   "execution_count": 9
  },
  {
   "metadata": {},
   "cell_type": "markdown",
   "source": "Add start and end tokens:",
   "id": "6ac6c6742902fdf6"
  },
  {
   "metadata": {
    "ExecuteTime": {
     "end_time": "2025-01-10T15:05:16.392970Z",
     "start_time": "2025-01-10T15:05:16.300526Z"
    }
   },
   "cell_type": "code",
   "source": [
    "tokenizer._tokenizer.post_processor = BertProcessing(\n",
    "    (\"</s>\", tokenizer.token_to_id(\"</s>\")),\n",
    "    (\"<s>\", tokenizer.token_to_id(\"<s>\")),\n",
    ")\n",
    "\n",
    "tokenizer.enable_truncation(max_length=512)"
   ],
   "id": "366abeb0b064809d",
   "outputs": [],
   "execution_count": 10
  },
  {
   "metadata": {
    "ExecuteTime": {
     "end_time": "2025-01-10T15:05:16.491941Z",
     "start_time": "2025-01-10T15:05:16.409628Z"
    }
   },
   "cell_type": "code",
   "source": "print(tokenizer.encode(\"legalidad, gestión y auditoría de toda la actividad de la administración pública centralizada y descentralizada\").tokens)",
   "id": "e815561449613504",
   "outputs": [
    {
     "name": "stdout",
     "output_type": "stream",
     "text": [
      "['<s>', 'leg', 'alidad', ',', 'ĠgestiÃ³n', 'Ġy', 'ĠauditorÃŃa', 'Ġde', 'Ġtoda', 'Ġla', 'Ġactividad', 'Ġde', 'Ġla', 'ĠadministraciÃ³n', 'ĠpÃºblica', 'Ġcentralizada', 'Ġy', 'Ġdescentralizada', '</s>']\n"
     ]
    }
   ],
   "execution_count": 11
  },
  {
   "metadata": {
    "ExecuteTime": {
     "end_time": "2025-01-10T15:05:16.518383Z",
     "start_time": "2025-01-10T15:05:16.515933Z"
    }
   },
   "cell_type": "code",
   "source": "",
   "id": "a2918e8cd6536863",
   "outputs": [],
   "execution_count": null
  }
 ],
 "metadata": {
  "kernelspec": {
   "display_name": "Python 3",
   "language": "python",
   "name": "python3"
  },
  "language_info": {
   "codemirror_mode": {
    "name": "ipython",
    "version": 2
   },
   "file_extension": ".py",
   "mimetype": "text/x-python",
   "name": "python",
   "nbconvert_exporter": "python",
   "pygments_lexer": "ipython2",
   "version": "2.7.6"
  }
 },
 "nbformat": 4,
 "nbformat_minor": 5
}
