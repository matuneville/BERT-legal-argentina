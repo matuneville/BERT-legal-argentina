{
 "cells": [
  {
   "cell_type": "code",
   "id": "initial_id",
   "metadata": {
    "collapsed": true,
    "ExecuteTime": {
     "end_time": "2025-01-13T21:16:38.548784Z",
     "start_time": "2025-01-13T21:16:36.601928Z"
    }
   },
   "source": [
    "from tokenizers.implementations import ByteLevelBPETokenizer\n",
    "from tokenizers.processors import BertProcessing\n",
    "\n",
    "from nltk.corpus import stopwords\n",
    "#import nltk\n",
    "#nltk.download('stopwords')\n",
    "\n",
    "import os"
   ],
   "outputs": [],
   "execution_count": 44
  },
  {
   "metadata": {
    "ExecuteTime": {
     "end_time": "2025-01-13T21:16:39.685752Z",
     "start_time": "2025-01-13T21:16:38.787721Z"
    }
   },
   "cell_type": "code",
   "source": [
    "file_names = ['../data/ley_bases.txt', '../data/constitucion-nacional.txt']\n",
    "\n",
    "\"\"\"if os.path.exists('../data/') and os.path.isdir('../data/'):\n",
    "    file_names = os.listdir('../data/')\n",
    "\n",
    "file_names = ['../data/'+file_name for file_name in file_names]\n",
    "\n",
    "file_names\"\"\""
   ],
   "id": "f613e35f7c114d17",
   "outputs": [
    {
     "data": {
      "text/plain": [
       "\"if os.path.exists('../data/') and os.path.isdir('../data/'):\\n    file_names = os.listdir('../data/')\\n\\nfile_names = ['../data/'+file_name for file_name in file_names]\\n\\nfile_names\""
      ]
     },
     "execution_count": 45,
     "metadata": {},
     "output_type": "execute_result"
    }
   ],
   "execution_count": 45
  },
  {
   "metadata": {
    "ExecuteTime": {
     "end_time": "2025-01-13T21:16:51.312320Z",
     "start_time": "2025-01-13T21:16:43.775292Z"
    }
   },
   "cell_type": "code",
   "source": [
    "tokenizer = ByteLevelBPETokenizer()\n",
    "\n",
    "# ensure tokenizer reserves the special tokens for the vocab\n",
    "# (using the same as RoBERTa needs)\n",
    "special_tokens = [\n",
    "    \"<pad>\",\n",
    "    \"<unk>\",\n",
    "    \"<s>\",\n",
    "    \"</s>\",\n",
    "    \"<mask>\"\n",
    "]\n",
    "\n",
    "tokenizer.train(files=file_names,\n",
    "                vocab_size=30000,\n",
    "                min_frequency=2,\n",
    "                special_tokens=special_tokens\n",
    "                )"
   ],
   "id": "490607c88d80e78d",
   "outputs": [
    {
     "name": "stdout",
     "output_type": "stream",
     "text": [
      "\n",
      "\n",
      "\n"
     ]
    }
   ],
   "execution_count": 46
  },
  {
   "metadata": {},
   "cell_type": "markdown",
   "source": "Save files to disk",
   "id": "ae8162bd3619fa9c"
  },
  {
   "metadata": {
    "ExecuteTime": {
     "end_time": "2025-01-13T21:16:51.751319Z",
     "start_time": "2025-01-13T21:16:51.376333Z"
    }
   },
   "cell_type": "code",
   "source": [
    "token_dir = '../LawBERTarg/'\n",
    "if not os.path.exists(token_dir):\n",
    "    os.makedirs(token_dir)\n",
    "tokenizer.save_model(token_dir)"
   ],
   "id": "db6d4d56f526b774",
   "outputs": [
    {
     "data": {
      "text/plain": [
       "['../LawBERTarg/vocab.json', '../LawBERTarg/merges.txt']"
      ]
     },
     "execution_count": 47,
     "metadata": {},
     "output_type": "execute_result"
    }
   ],
   "execution_count": 47
  },
  {
   "metadata": {},
   "cell_type": "markdown",
   "source": "## Testing tokenizer",
   "id": "ef6756cd9216a133"
  },
  {
   "metadata": {
    "ExecuteTime": {
     "end_time": "2025-01-13T21:17:22.562461Z",
     "start_time": "2025-01-13T21:17:22.484637Z"
    }
   },
   "cell_type": "code",
   "source": [
    "tokenizer = ByteLevelBPETokenizer(vocab = '../LawBERTarg/vocab.json',\n",
    "                                  merges = '../LawBERTarg/merges.txt',\n",
    "                                  lowercase = False,)"
   ],
   "id": "2f4dd831307621f9",
   "outputs": [],
   "execution_count": 55
  },
  {
   "metadata": {},
   "cell_type": "markdown",
   "source": "Example encodings:",
   "id": "27d6393a3dc61ec0"
  },
  {
   "metadata": {
    "ExecuteTime": {
     "end_time": "2025-01-13T21:17:24.433722Z",
     "start_time": "2025-01-13T21:17:24.404560Z"
    }
   },
   "cell_type": "code",
   "source": "print(tokenizer.encode(\"la ley prohibe a\").tokens)",
   "id": "de55934780f2fce2",
   "outputs": [
    {
     "name": "stdout",
     "output_type": "stream",
     "text": [
      "['la', 'Ġley', 'Ġprohib', 'e', 'Ġa']\n"
     ]
    }
   ],
   "execution_count": 56
  },
  {
   "metadata": {
    "ExecuteTime": {
     "end_time": "2025-01-13T21:17:25.403955Z",
     "start_time": "2025-01-13T21:17:25.372827Z"
    }
   },
   "cell_type": "code",
   "source": [
    "print(tokenizer.encode(\"\"\"\n",
    "ARTÍCULO 30.- Prohibición de imponer restricciones a la importación y a la\n",
    "exportación. Los VPU adheridos al RIGI podrán importar y exportar libremente\n",
    "bienes y servicios para la construcción,\n",
    "\"\"\").tokens)"
   ],
   "id": "fe61dcdd35085a7",
   "outputs": [
    {
     "name": "stdout",
     "output_type": "stream",
     "text": [
      "['Ċ', 'ARTÃįCULO', 'Ġ30', '.-', 'ĠPro', 'hibiciÃ³n', 'Ġde', 'Ġimponer', 'Ġrestricciones', 'Ġa', 'Ġla', 'ĠimportaciÃ³n', 'Ġy', 'Ġa', 'Ġla', 'Ċ', 'exportaciÃ³n', '.', 'ĠLos', 'ĠVPU', 'Ġadheridos', 'Ġal', 'ĠRIGI', 'ĠpodrÃ¡n', 'Ġimportar', 'Ġy', 'Ġexportar', 'Ġlibremente', 'Ċ', 'bienes', 'Ġy', 'Ġservicios', 'Ġpara', 'Ġla', 'ĠconstrucciÃ³n', ',', 'Ċ']\n"
     ]
    }
   ],
   "execution_count": 57
  },
  {
   "metadata": {},
   "cell_type": "markdown",
   "source": "Add start and end tokens:",
   "id": "6ac6c6742902fdf6"
  },
  {
   "metadata": {
    "ExecuteTime": {
     "end_time": "2025-01-13T21:17:32.406655Z",
     "start_time": "2025-01-13T21:17:32.387587Z"
    }
   },
   "cell_type": "code",
   "source": [
    "tokenizer._tokenizer.post_processor = BertProcessing(\n",
    "    (\"</s>\", tokenizer.token_to_id(\"</s>\")),\n",
    "    (\"<s>\", tokenizer.token_to_id(\"<s>\")),\n",
    ")\n",
    "\n",
    "tokenizer.enable_truncation(max_length=512)"
   ],
   "id": "366abeb0b064809d",
   "outputs": [],
   "execution_count": 58
  },
  {
   "metadata": {
    "ExecuteTime": {
     "end_time": "2025-01-13T21:17:34.052899Z",
     "start_time": "2025-01-13T21:17:34.011355Z"
    }
   },
   "cell_type": "code",
   "source": "print(tokenizer.encode(\"legalidad, gestión y auditoría de toda la actividad de la administración pública centralizada y descentralizada\").tokens)",
   "id": "e815561449613504",
   "outputs": [
    {
     "name": "stdout",
     "output_type": "stream",
     "text": [
      "['<s>', 'leg', 'alidad', ',', 'ĠgestiÃ³n', 'Ġy', 'ĠauditorÃŃa', 'Ġde', 'Ġtoda', 'Ġla', 'Ġactividad', 'Ġde', 'Ġla', 'ĠadministraciÃ³n', 'ĠpÃºblica', 'Ġcentralizada', 'Ġy', 'Ġdescentralizada', '</s>']\n"
     ]
    }
   ],
   "execution_count": 59
  },
  {
   "metadata": {
    "ExecuteTime": {
     "end_time": "2025-01-13T21:17:37.168195Z",
     "start_time": "2025-01-13T21:17:37.146571Z"
    }
   },
   "cell_type": "code",
   "source": "print(tokenizer.encode(\"Todo Estado parte en el momento de la firma o ratificación de la presente Convención o de su adhesión a la misma, podrá declarar que no se considera obligado por el párrafo 1 del presente artículo.\").tokens)",
   "id": "b96500b11f90dd2",
   "outputs": [
    {
     "name": "stdout",
     "output_type": "stream",
     "text": [
      "['<s>', 'To', 'do', 'ĠEstado', 'Ġparte', 'Ġen', 'Ġel', 'Ġmomento', 'Ġde', 'Ġla', 'Ġfirma', 'Ġo', 'ĠratificaciÃ³n', 'Ġde', 'Ġla', 'Ġpresente', 'ĠConvenciÃ³n', 'Ġo', 'Ġde', 'Ġsu', 'ĠadhesiÃ³n', 'Ġa', 'Ġla', 'Ġmisma', ',', 'ĠpodrÃ¡', 'Ġdeclarar', 'Ġque', 'Ġno', 'Ġse', 'Ġconsidera', 'Ġobligado', 'Ġpor', 'Ġel', 'ĠpÃ¡rrafo', 'Ġ1', 'Ġdel', 'Ġpresente', 'ĠartÃŃculo', '.', '</s>']\n"
     ]
    }
   ],
   "execution_count": 60
  },
  {
   "metadata": {
    "ExecuteTime": {
     "end_time": "2025-01-13T21:17:41.353232Z",
     "start_time": "2025-01-13T21:17:41.346745Z"
    }
   },
   "cell_type": "code",
   "source": "tokenizer.get_vocab_size()",
   "id": "fabd082bb8f5295f",
   "outputs": [
    {
     "data": {
      "text/plain": [
       "13060"
      ]
     },
     "execution_count": 61,
     "metadata": {},
     "output_type": "execute_result"
    }
   ],
   "execution_count": 61
  },
  {
   "metadata": {
    "ExecuteTime": {
     "end_time": "2025-01-13T21:16:53.664224Z",
     "start_time": "2025-01-13T21:16:53.597149Z"
    }
   },
   "cell_type": "code",
   "source": "",
   "id": "7c74971deaf95d23",
   "outputs": [],
   "execution_count": null
  }
 ],
 "metadata": {
  "kernelspec": {
   "display_name": "Python 3",
   "language": "python",
   "name": "python3"
  },
  "language_info": {
   "codemirror_mode": {
    "name": "ipython",
    "version": 2
   },
   "file_extension": ".py",
   "mimetype": "text/x-python",
   "name": "python",
   "nbconvert_exporter": "python",
   "pygments_lexer": "ipython2",
   "version": "2.7.6"
  }
 },
 "nbformat": 4,
 "nbformat_minor": 5
}
